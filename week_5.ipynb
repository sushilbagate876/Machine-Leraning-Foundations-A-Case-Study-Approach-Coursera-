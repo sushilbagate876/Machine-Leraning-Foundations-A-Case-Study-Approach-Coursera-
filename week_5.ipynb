{
  "nbformat": 4,
  "nbformat_minor": 0,
  "metadata": {
    "colab": {
      "name": "week 5.ipynb",
      "provenance": []
    },
    "kernelspec": {
      "name": "python3",
      "display_name": "Python 3"
    }
  },
  "cells": [
    {
      "cell_type": "code",
      "metadata": {
        "id": "JgGL4EnTZeTQ",
        "colab_type": "code",
        "colab": {
          "base_uri": "https://localhost:8080/",
          "height": 1000
        },
        "outputId": "98f2b4ef-1c18-4028-d943-8aa6ccfa7c26"
      },
      "source": [
        "!pip install turicreate\n",
        "from google.colab import drive\n",
        "drive.mount('/content/drive/')\n",
        "\n",
        "import turicreate as tc\n",
        "import pandas as pd\n",
        "import numpy as np"
      ],
      "execution_count": 1,
      "outputs": [
        {
          "output_type": "stream",
          "text": [
            "Collecting turicreate\n",
            "\u001b[?25l  Downloading https://files.pythonhosted.org/packages/e4/76/76c624d7ae1116b22cd559288596a1f9aa7a50f8f43f4481033fc047f5e9/turicreate-6.3-cp36-cp36m-manylinux1_x86_64.whl (91.9MB)\n",
            "\u001b[K     |████████████████████████████████| 91.9MB 62kB/s \n",
            "\u001b[?25hCollecting tensorflow<=2.0.1,>=2.0.0\n",
            "\u001b[?25l  Downloading https://files.pythonhosted.org/packages/43/16/b07e3f7a4a024b47918f7018967eb984b0c542458a6141d8c48515aa81d4/tensorflow-2.0.1-cp36-cp36m-manylinux2010_x86_64.whl (86.3MB)\n",
            "\u001b[K     |████████████████████████████████| 86.3MB 51kB/s \n",
            "\u001b[?25hRequirement already satisfied: pandas>=0.23.2 in /usr/local/lib/python3.6/dist-packages (from turicreate) (1.0.5)\n",
            "Requirement already satisfied: requests>=2.9.1 in /usr/local/lib/python3.6/dist-packages (from turicreate) (2.23.0)\n",
            "Requirement already satisfied: scipy>=1.1.0 in /usr/local/lib/python3.6/dist-packages (from turicreate) (1.4.1)\n",
            "Requirement already satisfied: decorator>=4.0.9 in /usr/local/lib/python3.6/dist-packages (from turicreate) (4.4.2)\n",
            "Requirement already satisfied: prettytable==0.7.2 in /usr/local/lib/python3.6/dist-packages (from turicreate) (0.7.2)\n",
            "Collecting coremltools==3.3\n",
            "\u001b[?25l  Downloading https://files.pythonhosted.org/packages/77/19/611916d1ef326d38857d93af5ba184f6ad7491642e0fa4f9082e7d82f034/coremltools-3.3-cp36-none-manylinux1_x86_64.whl (3.4MB)\n",
            "\u001b[K     |████████████████████████████████| 3.4MB 46.8MB/s \n",
            "\u001b[?25hCollecting resampy==0.2.1\n",
            "\u001b[?25l  Downloading https://files.pythonhosted.org/packages/14/b6/66a06d85474190b50aee1a6c09cdc95bb405ac47338b27e9b21409da1760/resampy-0.2.1.tar.gz (322kB)\n",
            "\u001b[K     |████████████████████████████████| 327kB 47.3MB/s \n",
            "\u001b[?25hRequirement already satisfied: six>=1.10.0 in /usr/local/lib/python3.6/dist-packages (from turicreate) (1.12.0)\n",
            "Requirement already satisfied: pillow>=5.2.0 in /usr/local/lib/python3.6/dist-packages (from turicreate) (7.0.0)\n",
            "Requirement already satisfied: numpy in /usr/local/lib/python3.6/dist-packages (from turicreate) (1.18.5)\n",
            "Requirement already satisfied: wheel>=0.26; python_version >= \"3\" in /usr/local/lib/python3.6/dist-packages (from tensorflow<=2.0.1,>=2.0.0->turicreate) (0.34.2)\n",
            "Requirement already satisfied: grpcio>=1.8.6 in /usr/local/lib/python3.6/dist-packages (from tensorflow<=2.0.1,>=2.0.0->turicreate) (1.30.0)\n",
            "Requirement already satisfied: wrapt>=1.11.1 in /usr/local/lib/python3.6/dist-packages (from tensorflow<=2.0.1,>=2.0.0->turicreate) (1.12.1)\n",
            "Collecting gast==0.2.2\n",
            "  Downloading https://files.pythonhosted.org/packages/4e/35/11749bf99b2d4e3cceb4d55ca22590b0d7c2c62b9de38ac4a4a7f4687421/gast-0.2.2.tar.gz\n",
            "Requirement already satisfied: protobuf>=3.6.1 in /usr/local/lib/python3.6/dist-packages (from tensorflow<=2.0.1,>=2.0.0->turicreate) (3.10.0)\n",
            "Requirement already satisfied: google-pasta>=0.1.6 in /usr/local/lib/python3.6/dist-packages (from tensorflow<=2.0.1,>=2.0.0->turicreate) (0.2.0)\n",
            "Requirement already satisfied: astor>=0.6.0 in /usr/local/lib/python3.6/dist-packages (from tensorflow<=2.0.1,>=2.0.0->turicreate) (0.8.1)\n",
            "Collecting tensorflow-estimator<2.1.0,>=2.0.0\n",
            "\u001b[?25l  Downloading https://files.pythonhosted.org/packages/fc/08/8b927337b7019c374719145d1dceba21a8bb909b93b1ad6f8fb7d22c1ca1/tensorflow_estimator-2.0.1-py2.py3-none-any.whl (449kB)\n",
            "\u001b[K     |████████████████████████████████| 450kB 42.0MB/s \n",
            "\u001b[?25hRequirement already satisfied: keras-preprocessing>=1.0.5 in /usr/local/lib/python3.6/dist-packages (from tensorflow<=2.0.1,>=2.0.0->turicreate) (1.1.2)\n",
            "Requirement already satisfied: opt-einsum>=2.3.2 in /usr/local/lib/python3.6/dist-packages (from tensorflow<=2.0.1,>=2.0.0->turicreate) (3.2.1)\n",
            "Collecting tensorboard<2.1.0,>=2.0.0\n",
            "\u001b[?25l  Downloading https://files.pythonhosted.org/packages/76/54/99b9d5d52d5cb732f099baaaf7740403e83fe6b0cedde940fabd2b13d75a/tensorboard-2.0.2-py3-none-any.whl (3.8MB)\n",
            "\u001b[K     |████████████████████████████████| 3.8MB 47.2MB/s \n",
            "\u001b[?25hRequirement already satisfied: keras-applications>=1.0.8 in /usr/local/lib/python3.6/dist-packages (from tensorflow<=2.0.1,>=2.0.0->turicreate) (1.0.8)\n",
            "Requirement already satisfied: termcolor>=1.1.0 in /usr/local/lib/python3.6/dist-packages (from tensorflow<=2.0.1,>=2.0.0->turicreate) (1.1.0)\n",
            "Requirement already satisfied: absl-py>=0.7.0 in /usr/local/lib/python3.6/dist-packages (from tensorflow<=2.0.1,>=2.0.0->turicreate) (0.9.0)\n",
            "Requirement already satisfied: python-dateutil>=2.6.1 in /usr/local/lib/python3.6/dist-packages (from pandas>=0.23.2->turicreate) (2.8.1)\n",
            "Requirement already satisfied: pytz>=2017.2 in /usr/local/lib/python3.6/dist-packages (from pandas>=0.23.2->turicreate) (2018.9)\n",
            "Requirement already satisfied: certifi>=2017.4.17 in /usr/local/lib/python3.6/dist-packages (from requests>=2.9.1->turicreate) (2020.6.20)\n",
            "Requirement already satisfied: idna<3,>=2.5 in /usr/local/lib/python3.6/dist-packages (from requests>=2.9.1->turicreate) (2.10)\n",
            "Requirement already satisfied: urllib3!=1.25.0,!=1.25.1,<1.26,>=1.21.1 in /usr/local/lib/python3.6/dist-packages (from requests>=2.9.1->turicreate) (1.24.3)\n",
            "Requirement already satisfied: chardet<4,>=3.0.2 in /usr/local/lib/python3.6/dist-packages (from requests>=2.9.1->turicreate) (3.0.4)\n",
            "Requirement already satisfied: numba>=0.32 in /usr/local/lib/python3.6/dist-packages (from resampy==0.2.1->turicreate) (0.48.0)\n",
            "Requirement already satisfied: setuptools in /usr/local/lib/python3.6/dist-packages (from protobuf>=3.6.1->tensorflow<=2.0.1,>=2.0.0->turicreate) (49.1.0)\n",
            "Requirement already satisfied: google-auth<2,>=1.6.3 in /usr/local/lib/python3.6/dist-packages (from tensorboard<2.1.0,>=2.0.0->tensorflow<=2.0.1,>=2.0.0->turicreate) (1.17.2)\n",
            "Requirement already satisfied: google-auth-oauthlib<0.5,>=0.4.1 in /usr/local/lib/python3.6/dist-packages (from tensorboard<2.1.0,>=2.0.0->tensorflow<=2.0.1,>=2.0.0->turicreate) (0.4.1)\n",
            "Requirement already satisfied: werkzeug>=0.11.15 in /usr/local/lib/python3.6/dist-packages (from tensorboard<2.1.0,>=2.0.0->tensorflow<=2.0.1,>=2.0.0->turicreate) (1.0.1)\n",
            "Requirement already satisfied: markdown>=2.6.8 in /usr/local/lib/python3.6/dist-packages (from tensorboard<2.1.0,>=2.0.0->tensorflow<=2.0.1,>=2.0.0->turicreate) (3.2.2)\n",
            "Requirement already satisfied: h5py in /usr/local/lib/python3.6/dist-packages (from keras-applications>=1.0.8->tensorflow<=2.0.1,>=2.0.0->turicreate) (2.10.0)\n",
            "Requirement already satisfied: llvmlite<0.32.0,>=0.31.0dev0 in /usr/local/lib/python3.6/dist-packages (from numba>=0.32->resampy==0.2.1->turicreate) (0.31.0)\n",
            "Requirement already satisfied: cachetools<5.0,>=2.0.0 in /usr/local/lib/python3.6/dist-packages (from google-auth<2,>=1.6.3->tensorboard<2.1.0,>=2.0.0->tensorflow<=2.0.1,>=2.0.0->turicreate) (4.1.1)\n",
            "Requirement already satisfied: rsa<5,>=3.1.4; python_version >= \"3\" in /usr/local/lib/python3.6/dist-packages (from google-auth<2,>=1.6.3->tensorboard<2.1.0,>=2.0.0->tensorflow<=2.0.1,>=2.0.0->turicreate) (4.6)\n",
            "Requirement already satisfied: pyasn1-modules>=0.2.1 in /usr/local/lib/python3.6/dist-packages (from google-auth<2,>=1.6.3->tensorboard<2.1.0,>=2.0.0->tensorflow<=2.0.1,>=2.0.0->turicreate) (0.2.8)\n",
            "Requirement already satisfied: requests-oauthlib>=0.7.0 in /usr/local/lib/python3.6/dist-packages (from google-auth-oauthlib<0.5,>=0.4.1->tensorboard<2.1.0,>=2.0.0->tensorflow<=2.0.1,>=2.0.0->turicreate) (1.3.0)\n",
            "Requirement already satisfied: importlib-metadata; python_version < \"3.8\" in /usr/local/lib/python3.6/dist-packages (from markdown>=2.6.8->tensorboard<2.1.0,>=2.0.0->tensorflow<=2.0.1,>=2.0.0->turicreate) (1.7.0)\n",
            "Requirement already satisfied: pyasn1>=0.1.3 in /usr/local/lib/python3.6/dist-packages (from rsa<5,>=3.1.4; python_version >= \"3\"->google-auth<2,>=1.6.3->tensorboard<2.1.0,>=2.0.0->tensorflow<=2.0.1,>=2.0.0->turicreate) (0.4.8)\n",
            "Requirement already satisfied: oauthlib>=3.0.0 in /usr/local/lib/python3.6/dist-packages (from requests-oauthlib>=0.7.0->google-auth-oauthlib<0.5,>=0.4.1->tensorboard<2.1.0,>=2.0.0->tensorflow<=2.0.1,>=2.0.0->turicreate) (3.1.0)\n",
            "Requirement already satisfied: zipp>=0.5 in /usr/local/lib/python3.6/dist-packages (from importlib-metadata; python_version < \"3.8\"->markdown>=2.6.8->tensorboard<2.1.0,>=2.0.0->tensorflow<=2.0.1,>=2.0.0->turicreate) (3.1.0)\n",
            "Building wheels for collected packages: resampy, gast\n",
            "  Building wheel for resampy (setup.py) ... \u001b[?25l\u001b[?25hdone\n",
            "  Created wheel for resampy: filename=resampy-0.2.1-cp36-none-any.whl size=320850 sha256=cd3a6c31df1e95e76323c7775a2334f670e9ea5e6f8abbde2711097ef0adb25d\n",
            "  Stored in directory: /root/.cache/pip/wheels/ff/4f/ed/2e6c676c23efe5394bb40ade50662e90eb46e29b48324c5f9b\n",
            "  Building wheel for gast (setup.py) ... \u001b[?25l\u001b[?25hdone\n",
            "  Created wheel for gast: filename=gast-0.2.2-cp36-none-any.whl size=7540 sha256=d43cc8a416a77458a1261541d8d679aebe7df6ad716a5e03a8ad7f04f190bca7\n",
            "  Stored in directory: /root/.cache/pip/wheels/5c/2e/7e/a1d4d4fcebe6c381f378ce7743a3ced3699feb89bcfbdadadd\n",
            "Successfully built resampy gast\n",
            "\u001b[31mERROR: tensorflow-probability 0.10.0 has requirement gast>=0.3.2, but you'll have gast 0.2.2 which is incompatible.\u001b[0m\n",
            "Installing collected packages: gast, tensorflow-estimator, tensorboard, tensorflow, coremltools, resampy, turicreate\n",
            "  Found existing installation: gast 0.3.3\n",
            "    Uninstalling gast-0.3.3:\n",
            "      Successfully uninstalled gast-0.3.3\n",
            "  Found existing installation: tensorflow-estimator 2.2.0\n",
            "    Uninstalling tensorflow-estimator-2.2.0:\n",
            "      Successfully uninstalled tensorflow-estimator-2.2.0\n",
            "  Found existing installation: tensorboard 2.2.2\n",
            "    Uninstalling tensorboard-2.2.2:\n",
            "      Successfully uninstalled tensorboard-2.2.2\n",
            "  Found existing installation: tensorflow 2.2.0\n",
            "    Uninstalling tensorflow-2.2.0:\n",
            "      Successfully uninstalled tensorflow-2.2.0\n",
            "  Found existing installation: resampy 0.2.2\n",
            "    Uninstalling resampy-0.2.2:\n",
            "      Successfully uninstalled resampy-0.2.2\n",
            "Successfully installed coremltools-3.3 gast-0.2.2 resampy-0.2.1 tensorboard-2.0.2 tensorflow-2.0.1 tensorflow-estimator-2.0.1 turicreate-6.3\n",
            "Go to this URL in a browser: https://accounts.google.com/o/oauth2/auth?client_id=947318989803-6bn6qk8qdgf4n4g3pfee6491hc0brc4i.apps.googleusercontent.com&redirect_uri=urn%3aietf%3awg%3aoauth%3a2.0%3aoob&response_type=code&scope=email%20https%3a%2f%2fwww.googleapis.com%2fauth%2fdocs.test%20https%3a%2f%2fwww.googleapis.com%2fauth%2fdrive%20https%3a%2f%2fwww.googleapis.com%2fauth%2fdrive.photos.readonly%20https%3a%2f%2fwww.googleapis.com%2fauth%2fpeopleapi.readonly\n",
            "\n",
            "Enter your authorization code:\n",
            "··········\n",
            "Mounted at /content/drive/\n"
          ],
          "name": "stdout"
        }
      ]
    },
    {
      "cell_type": "code",
      "metadata": {
        "id": "3CiUafs3ZtoO",
        "colab_type": "code",
        "colab": {}
      },
      "source": [
        "song = tc.SFrame('/content/drive/My Drive/data/song_data.sframe')"
      ],
      "execution_count": 2,
      "outputs": []
    },
    {
      "cell_type": "code",
      "metadata": {
        "id": "UU_gH8nlaf7Z",
        "colab_type": "code",
        "colab": {
          "base_uri": "https://localhost:8080/",
          "height": 847
        },
        "outputId": "5cbb3582-41d3-40a1-e20e-3771edbb46f0"
      },
      "source": [
        "song"
      ],
      "execution_count": 3,
      "outputs": [
        {
          "output_type": "execute_result",
          "data": {
            "text/html": [
              "<div style=\"max-height:1000px;max-width:1500px;overflow:auto;\"><table frame=\"box\" rules=\"cols\">\n",
              "    <tr>\n",
              "        <th style=\"padding-left: 1em; padding-right: 1em; text-align: center\">user_id</th>\n",
              "        <th style=\"padding-left: 1em; padding-right: 1em; text-align: center\">song_id</th>\n",
              "        <th style=\"padding-left: 1em; padding-right: 1em; text-align: center\">listen_count</th>\n",
              "        <th style=\"padding-left: 1em; padding-right: 1em; text-align: center\">title</th>\n",
              "        <th style=\"padding-left: 1em; padding-right: 1em; text-align: center\">artist</th>\n",
              "    </tr>\n",
              "    <tr>\n",
              "        <td style=\"padding-left: 1em; padding-right: 1em; text-align: center; vertical-align: top\">b80344d063b5ccb3212f76538<br>f3d9e43d87dca9e ...</td>\n",
              "        <td style=\"padding-left: 1em; padding-right: 1em; text-align: center; vertical-align: top\">SOAKIMP12A8C130995</td>\n",
              "        <td style=\"padding-left: 1em; padding-right: 1em; text-align: center; vertical-align: top\">1</td>\n",
              "        <td style=\"padding-left: 1em; padding-right: 1em; text-align: center; vertical-align: top\">The Cove</td>\n",
              "        <td style=\"padding-left: 1em; padding-right: 1em; text-align: center; vertical-align: top\">Jack Johnson</td>\n",
              "    </tr>\n",
              "    <tr>\n",
              "        <td style=\"padding-left: 1em; padding-right: 1em; text-align: center; vertical-align: top\">b80344d063b5ccb3212f76538<br>f3d9e43d87dca9e ...</td>\n",
              "        <td style=\"padding-left: 1em; padding-right: 1em; text-align: center; vertical-align: top\">SOBBMDR12A8C13253B</td>\n",
              "        <td style=\"padding-left: 1em; padding-right: 1em; text-align: center; vertical-align: top\">2</td>\n",
              "        <td style=\"padding-left: 1em; padding-right: 1em; text-align: center; vertical-align: top\">Entre Dos Aguas</td>\n",
              "        <td style=\"padding-left: 1em; padding-right: 1em; text-align: center; vertical-align: top\">Paco De Lucia</td>\n",
              "    </tr>\n",
              "    <tr>\n",
              "        <td style=\"padding-left: 1em; padding-right: 1em; text-align: center; vertical-align: top\">b80344d063b5ccb3212f76538<br>f3d9e43d87dca9e ...</td>\n",
              "        <td style=\"padding-left: 1em; padding-right: 1em; text-align: center; vertical-align: top\">SOBXHDL12A81C204C0</td>\n",
              "        <td style=\"padding-left: 1em; padding-right: 1em; text-align: center; vertical-align: top\">1</td>\n",
              "        <td style=\"padding-left: 1em; padding-right: 1em; text-align: center; vertical-align: top\">Stronger</td>\n",
              "        <td style=\"padding-left: 1em; padding-right: 1em; text-align: center; vertical-align: top\">Kanye West</td>\n",
              "    </tr>\n",
              "    <tr>\n",
              "        <td style=\"padding-left: 1em; padding-right: 1em; text-align: center; vertical-align: top\">b80344d063b5ccb3212f76538<br>f3d9e43d87dca9e ...</td>\n",
              "        <td style=\"padding-left: 1em; padding-right: 1em; text-align: center; vertical-align: top\">SOBYHAJ12A6701BF1D</td>\n",
              "        <td style=\"padding-left: 1em; padding-right: 1em; text-align: center; vertical-align: top\">1</td>\n",
              "        <td style=\"padding-left: 1em; padding-right: 1em; text-align: center; vertical-align: top\">Constellations</td>\n",
              "        <td style=\"padding-left: 1em; padding-right: 1em; text-align: center; vertical-align: top\">Jack Johnson</td>\n",
              "    </tr>\n",
              "    <tr>\n",
              "        <td style=\"padding-left: 1em; padding-right: 1em; text-align: center; vertical-align: top\">b80344d063b5ccb3212f76538<br>f3d9e43d87dca9e ...</td>\n",
              "        <td style=\"padding-left: 1em; padding-right: 1em; text-align: center; vertical-align: top\">SODACBL12A8C13C273</td>\n",
              "        <td style=\"padding-left: 1em; padding-right: 1em; text-align: center; vertical-align: top\">1</td>\n",
              "        <td style=\"padding-left: 1em; padding-right: 1em; text-align: center; vertical-align: top\">Learn To Fly</td>\n",
              "        <td style=\"padding-left: 1em; padding-right: 1em; text-align: center; vertical-align: top\">Foo Fighters</td>\n",
              "    </tr>\n",
              "    <tr>\n",
              "        <td style=\"padding-left: 1em; padding-right: 1em; text-align: center; vertical-align: top\">b80344d063b5ccb3212f76538<br>f3d9e43d87dca9e ...</td>\n",
              "        <td style=\"padding-left: 1em; padding-right: 1em; text-align: center; vertical-align: top\">SODDNQT12A6D4F5F7E</td>\n",
              "        <td style=\"padding-left: 1em; padding-right: 1em; text-align: center; vertical-align: top\">5</td>\n",
              "        <td style=\"padding-left: 1em; padding-right: 1em; text-align: center; vertical-align: top\">Apuesta Por El Rock &#x27;N&#x27;<br>Roll ...</td>\n",
              "        <td style=\"padding-left: 1em; padding-right: 1em; text-align: center; vertical-align: top\">Héroes del Silencio</td>\n",
              "    </tr>\n",
              "    <tr>\n",
              "        <td style=\"padding-left: 1em; padding-right: 1em; text-align: center; vertical-align: top\">b80344d063b5ccb3212f76538<br>f3d9e43d87dca9e ...</td>\n",
              "        <td style=\"padding-left: 1em; padding-right: 1em; text-align: center; vertical-align: top\">SODXRTY12AB0180F3B</td>\n",
              "        <td style=\"padding-left: 1em; padding-right: 1em; text-align: center; vertical-align: top\">1</td>\n",
              "        <td style=\"padding-left: 1em; padding-right: 1em; text-align: center; vertical-align: top\">Paper Gangsta</td>\n",
              "        <td style=\"padding-left: 1em; padding-right: 1em; text-align: center; vertical-align: top\">Lady GaGa</td>\n",
              "    </tr>\n",
              "    <tr>\n",
              "        <td style=\"padding-left: 1em; padding-right: 1em; text-align: center; vertical-align: top\">b80344d063b5ccb3212f76538<br>f3d9e43d87dca9e ...</td>\n",
              "        <td style=\"padding-left: 1em; padding-right: 1em; text-align: center; vertical-align: top\">SOFGUAY12AB017B0A8</td>\n",
              "        <td style=\"padding-left: 1em; padding-right: 1em; text-align: center; vertical-align: top\">1</td>\n",
              "        <td style=\"padding-left: 1em; padding-right: 1em; text-align: center; vertical-align: top\">Stacked Actors</td>\n",
              "        <td style=\"padding-left: 1em; padding-right: 1em; text-align: center; vertical-align: top\">Foo Fighters</td>\n",
              "    </tr>\n",
              "    <tr>\n",
              "        <td style=\"padding-left: 1em; padding-right: 1em; text-align: center; vertical-align: top\">b80344d063b5ccb3212f76538<br>f3d9e43d87dca9e ...</td>\n",
              "        <td style=\"padding-left: 1em; padding-right: 1em; text-align: center; vertical-align: top\">SOFRQTD12A81C233C0</td>\n",
              "        <td style=\"padding-left: 1em; padding-right: 1em; text-align: center; vertical-align: top\">1</td>\n",
              "        <td style=\"padding-left: 1em; padding-right: 1em; text-align: center; vertical-align: top\">Sehr kosmisch</td>\n",
              "        <td style=\"padding-left: 1em; padding-right: 1em; text-align: center; vertical-align: top\">Harmonia</td>\n",
              "    </tr>\n",
              "    <tr>\n",
              "        <td style=\"padding-left: 1em; padding-right: 1em; text-align: center; vertical-align: top\">b80344d063b5ccb3212f76538<br>f3d9e43d87dca9e ...</td>\n",
              "        <td style=\"padding-left: 1em; padding-right: 1em; text-align: center; vertical-align: top\">SOHQWYZ12A6D4FA701</td>\n",
              "        <td style=\"padding-left: 1em; padding-right: 1em; text-align: center; vertical-align: top\">1</td>\n",
              "        <td style=\"padding-left: 1em; padding-right: 1em; text-align: center; vertical-align: top\">Heaven&#x27;s gonna burn your<br>eyes ...</td>\n",
              "        <td style=\"padding-left: 1em; padding-right: 1em; text-align: center; vertical-align: top\">Thievery Corporation<br>feat. Emiliana Torrini ...</td>\n",
              "    </tr>\n",
              "</table>\n",
              "<table frame=\"box\" rules=\"cols\">\n",
              "    <tr>\n",
              "        <th style=\"padding-left: 1em; padding-right: 1em; text-align: center\">song</th>\n",
              "    </tr>\n",
              "    <tr>\n",
              "        <td style=\"padding-left: 1em; padding-right: 1em; text-align: center; vertical-align: top\">The Cove - Jack Johnson</td>\n",
              "    </tr>\n",
              "    <tr>\n",
              "        <td style=\"padding-left: 1em; padding-right: 1em; text-align: center; vertical-align: top\">Entre Dos Aguas - Paco De<br>Lucia ...</td>\n",
              "    </tr>\n",
              "    <tr>\n",
              "        <td style=\"padding-left: 1em; padding-right: 1em; text-align: center; vertical-align: top\">Stronger - Kanye West</td>\n",
              "    </tr>\n",
              "    <tr>\n",
              "        <td style=\"padding-left: 1em; padding-right: 1em; text-align: center; vertical-align: top\">Constellations - Jack<br>Johnson ...</td>\n",
              "    </tr>\n",
              "    <tr>\n",
              "        <td style=\"padding-left: 1em; padding-right: 1em; text-align: center; vertical-align: top\">Learn To Fly - Foo<br>Fighters ...</td>\n",
              "    </tr>\n",
              "    <tr>\n",
              "        <td style=\"padding-left: 1em; padding-right: 1em; text-align: center; vertical-align: top\">Apuesta Por El Rock &#x27;N&#x27;<br>Roll - Héroes del ...</td>\n",
              "    </tr>\n",
              "    <tr>\n",
              "        <td style=\"padding-left: 1em; padding-right: 1em; text-align: center; vertical-align: top\">Paper Gangsta - Lady GaGa</td>\n",
              "    </tr>\n",
              "    <tr>\n",
              "        <td style=\"padding-left: 1em; padding-right: 1em; text-align: center; vertical-align: top\">Stacked Actors - Foo<br>Fighters ...</td>\n",
              "    </tr>\n",
              "    <tr>\n",
              "        <td style=\"padding-left: 1em; padding-right: 1em; text-align: center; vertical-align: top\">Sehr kosmisch - Harmonia</td>\n",
              "    </tr>\n",
              "    <tr>\n",
              "        <td style=\"padding-left: 1em; padding-right: 1em; text-align: center; vertical-align: top\">Heaven&#x27;s gonna burn your<br>eyes - Thievery ...</td>\n",
              "    </tr>\n",
              "</table>\n",
              "[1116609 rows x 6 columns]<br/>Note: Only the head of the SFrame is printed.<br/>You can use print_rows(num_rows=m, num_columns=n) to print more rows and columns.\n",
              "</div>"
            ],
            "text/plain": [
              "Columns:\n",
              "\tuser_id\tstr\n",
              "\tsong_id\tstr\n",
              "\tlisten_count\tint\n",
              "\ttitle\tstr\n",
              "\tartist\tstr\n",
              "\tsong\tstr\n",
              "\n",
              "Rows: 1116609\n",
              "\n",
              "Data:\n",
              "+-------------------------------+--------------------+--------------+\n",
              "|            user_id            |      song_id       | listen_count |\n",
              "+-------------------------------+--------------------+--------------+\n",
              "| b80344d063b5ccb3212f76538f... | SOAKIMP12A8C130995 |      1       |\n",
              "| b80344d063b5ccb3212f76538f... | SOBBMDR12A8C13253B |      2       |\n",
              "| b80344d063b5ccb3212f76538f... | SOBXHDL12A81C204C0 |      1       |\n",
              "| b80344d063b5ccb3212f76538f... | SOBYHAJ12A6701BF1D |      1       |\n",
              "| b80344d063b5ccb3212f76538f... | SODACBL12A8C13C273 |      1       |\n",
              "| b80344d063b5ccb3212f76538f... | SODDNQT12A6D4F5F7E |      5       |\n",
              "| b80344d063b5ccb3212f76538f... | SODXRTY12AB0180F3B |      1       |\n",
              "| b80344d063b5ccb3212f76538f... | SOFGUAY12AB017B0A8 |      1       |\n",
              "| b80344d063b5ccb3212f76538f... | SOFRQTD12A81C233C0 |      1       |\n",
              "| b80344d063b5ccb3212f76538f... | SOHQWYZ12A6D4FA701 |      1       |\n",
              "+-------------------------------+--------------------+--------------+\n",
              "+-------------------------------+-------------------------------+\n",
              "|             title             |             artist            |\n",
              "+-------------------------------+-------------------------------+\n",
              "|            The Cove           |          Jack Johnson         |\n",
              "|        Entre Dos Aguas        |         Paco De Lucia         |\n",
              "|            Stronger           |           Kanye West          |\n",
              "|         Constellations        |          Jack Johnson         |\n",
              "|          Learn To Fly         |          Foo Fighters         |\n",
              "|  Apuesta Por El Rock 'N' Roll |      Héroes del Silencio      |\n",
              "|         Paper Gangsta         |           Lady GaGa           |\n",
              "|         Stacked Actors        |          Foo Fighters         |\n",
              "|         Sehr kosmisch         |            Harmonia           |\n",
              "| Heaven's gonna burn your eyes | Thievery Corporation feat.... |\n",
              "+-------------------------------+-------------------------------+\n",
              "+-------------------------------+\n",
              "|              song             |\n",
              "+-------------------------------+\n",
              "|    The Cove - Jack Johnson    |\n",
              "| Entre Dos Aguas - Paco De ... |\n",
              "|     Stronger - Kanye West     |\n",
              "| Constellations - Jack Johnson |\n",
              "|  Learn To Fly - Foo Fighters  |\n",
              "| Apuesta Por El Rock 'N' Ro... |\n",
              "|   Paper Gangsta - Lady GaGa   |\n",
              "| Stacked Actors - Foo Fighters |\n",
              "|    Sehr kosmisch - Harmonia   |\n",
              "| Heaven's gonna burn your e... |\n",
              "+-------------------------------+\n",
              "[1116609 rows x 6 columns]\n",
              "Note: Only the head of the SFrame is printed.\n",
              "You can use print_rows(num_rows=m, num_columns=n) to print more rows and columns."
            ]
          },
          "metadata": {
            "tags": []
          },
          "execution_count": 3
        }
      ]
    },
    {
      "cell_type": "code",
      "metadata": {
        "id": "DkuR5XFDahtp",
        "colab_type": "code",
        "colab": {}
      },
      "source": [
        "users = song['user_id'].unique()"
      ],
      "execution_count": 14,
      "outputs": []
    },
    {
      "cell_type": "code",
      "metadata": {
        "id": "6JsjoefVa6tJ",
        "colab_type": "code",
        "colab": {
          "base_uri": "https://localhost:8080/",
          "height": 34
        },
        "outputId": "d20023b6-0d58-436f-e943-f0dcefc82e60"
      },
      "source": [
        "len(users)"
      ],
      "execution_count": 15,
      "outputs": [
        {
          "output_type": "execute_result",
          "data": {
            "text/plain": [
              "66346"
            ]
          },
          "metadata": {
            "tags": []
          },
          "execution_count": 15
        }
      ]
    },
    {
      "cell_type": "code",
      "metadata": {
        "id": "wNlfyRCFb12p",
        "colab_type": "code",
        "colab": {}
      },
      "source": [
        "train_data, test_data = song.random_split(0.8,seed=0)"
      ],
      "execution_count": 16,
      "outputs": []
    },
    {
      "cell_type": "code",
      "metadata": {
        "id": "USeBC8xlch2R",
        "colab_type": "code",
        "colab": {
          "base_uri": "https://localhost:8080/",
          "height": 156
        },
        "outputId": "6a483692-733a-4181-fa15-f115a58bfe9b"
      },
      "source": [
        "popularity_model = tc.popularity_recommender.create(train_data, user_id='user_id', item_id='song')"
      ],
      "execution_count": 17,
      "outputs": [
        {
          "output_type": "display_data",
          "data": {
            "text/html": [
              "<pre>Warning: Ignoring columns song_id, listen_count, title, artist;</pre>"
            ],
            "text/plain": [
              "Warning: Ignoring columns song_id, listen_count, title, artist;"
            ]
          },
          "metadata": {
            "tags": []
          }
        },
        {
          "output_type": "display_data",
          "data": {
            "text/html": [
              "<pre> To use one of these as a rating column, specify the column name to be used as target</pre>"
            ],
            "text/plain": [
              " To use one of these as a rating column, specify the column name to be used as target"
            ]
          },
          "metadata": {
            "tags": []
          }
        },
        {
          "output_type": "display_data",
          "data": {
            "text/html": [
              "<pre>    and use a method that allows the use of a target.</pre>"
            ],
            "text/plain": [
              "    and use a method that allows the use of a target."
            ]
          },
          "metadata": {
            "tags": []
          }
        },
        {
          "output_type": "display_data",
          "data": {
            "text/html": [
              "<pre>Preparing data set.</pre>"
            ],
            "text/plain": [
              "Preparing data set."
            ]
          },
          "metadata": {
            "tags": []
          }
        },
        {
          "output_type": "display_data",
          "data": {
            "text/html": [
              "<pre>    Data has 893580 observations with 66085 users and 9952 items.</pre>"
            ],
            "text/plain": [
              "    Data has 893580 observations with 66085 users and 9952 items."
            ]
          },
          "metadata": {
            "tags": []
          }
        },
        {
          "output_type": "display_data",
          "data": {
            "text/html": [
              "<pre>    Data prepared in: 1.49025s</pre>"
            ],
            "text/plain": [
              "    Data prepared in: 1.49025s"
            ]
          },
          "metadata": {
            "tags": []
          }
        },
        {
          "output_type": "display_data",
          "data": {
            "text/html": [
              "<pre>893580 observations to process; with 9952 unique items.</pre>"
            ],
            "text/plain": [
              "893580 observations to process; with 9952 unique items."
            ]
          },
          "metadata": {
            "tags": []
          }
        }
      ]
    },
    {
      "cell_type": "code",
      "metadata": {
        "id": "iQMrPpcSc6TZ",
        "colab_type": "code",
        "colab": {
          "base_uri": "https://localhost:8080/",
          "height": 415
        },
        "outputId": "b6f01ce2-6f04-4f86-d399-a2ec4eef7a93"
      },
      "source": [
        "popularity_model.recommend(users=[users[0]])"
      ],
      "execution_count": 18,
      "outputs": [
        {
          "output_type": "execute_result",
          "data": {
            "text/html": [
              "<div style=\"max-height:1000px;max-width:1500px;overflow:auto;\"><table frame=\"box\" rules=\"cols\">\n",
              "    <tr>\n",
              "        <th style=\"padding-left: 1em; padding-right: 1em; text-align: center\">user_id</th>\n",
              "        <th style=\"padding-left: 1em; padding-right: 1em; text-align: center\">song</th>\n",
              "        <th style=\"padding-left: 1em; padding-right: 1em; text-align: center\">score</th>\n",
              "        <th style=\"padding-left: 1em; padding-right: 1em; text-align: center\">rank</th>\n",
              "    </tr>\n",
              "    <tr>\n",
              "        <td style=\"padding-left: 1em; padding-right: 1em; text-align: center; vertical-align: top\">c66c10a9567f0d82ff31441a9<br>fd5063e5cd9dfe8 ...</td>\n",
              "        <td style=\"padding-left: 1em; padding-right: 1em; text-align: center; vertical-align: top\">Sehr kosmisch - Harmonia</td>\n",
              "        <td style=\"padding-left: 1em; padding-right: 1em; text-align: center; vertical-align: top\">4754.0</td>\n",
              "        <td style=\"padding-left: 1em; padding-right: 1em; text-align: center; vertical-align: top\">1</td>\n",
              "    </tr>\n",
              "    <tr>\n",
              "        <td style=\"padding-left: 1em; padding-right: 1em; text-align: center; vertical-align: top\">c66c10a9567f0d82ff31441a9<br>fd5063e5cd9dfe8 ...</td>\n",
              "        <td style=\"padding-left: 1em; padding-right: 1em; text-align: center; vertical-align: top\">Undo - Björk</td>\n",
              "        <td style=\"padding-left: 1em; padding-right: 1em; text-align: center; vertical-align: top\">4227.0</td>\n",
              "        <td style=\"padding-left: 1em; padding-right: 1em; text-align: center; vertical-align: top\">2</td>\n",
              "    </tr>\n",
              "    <tr>\n",
              "        <td style=\"padding-left: 1em; padding-right: 1em; text-align: center; vertical-align: top\">c66c10a9567f0d82ff31441a9<br>fd5063e5cd9dfe8 ...</td>\n",
              "        <td style=\"padding-left: 1em; padding-right: 1em; text-align: center; vertical-align: top\">You&#x27;re The One - Dwight<br>Yoakam ...</td>\n",
              "        <td style=\"padding-left: 1em; padding-right: 1em; text-align: center; vertical-align: top\">3781.0</td>\n",
              "        <td style=\"padding-left: 1em; padding-right: 1em; text-align: center; vertical-align: top\">3</td>\n",
              "    </tr>\n",
              "    <tr>\n",
              "        <td style=\"padding-left: 1em; padding-right: 1em; text-align: center; vertical-align: top\">c66c10a9567f0d82ff31441a9<br>fd5063e5cd9dfe8 ...</td>\n",
              "        <td style=\"padding-left: 1em; padding-right: 1em; text-align: center; vertical-align: top\">Dog Days Are Over (Radio<br>Edit) - Florence + The ...</td>\n",
              "        <td style=\"padding-left: 1em; padding-right: 1em; text-align: center; vertical-align: top\">3633.0</td>\n",
              "        <td style=\"padding-left: 1em; padding-right: 1em; text-align: center; vertical-align: top\">4</td>\n",
              "    </tr>\n",
              "    <tr>\n",
              "        <td style=\"padding-left: 1em; padding-right: 1em; text-align: center; vertical-align: top\">c66c10a9567f0d82ff31441a9<br>fd5063e5cd9dfe8 ...</td>\n",
              "        <td style=\"padding-left: 1em; padding-right: 1em; text-align: center; vertical-align: top\">Revelry - Kings Of Leon</td>\n",
              "        <td style=\"padding-left: 1em; padding-right: 1em; text-align: center; vertical-align: top\">3527.0</td>\n",
              "        <td style=\"padding-left: 1em; padding-right: 1em; text-align: center; vertical-align: top\">5</td>\n",
              "    </tr>\n",
              "    <tr>\n",
              "        <td style=\"padding-left: 1em; padding-right: 1em; text-align: center; vertical-align: top\">c66c10a9567f0d82ff31441a9<br>fd5063e5cd9dfe8 ...</td>\n",
              "        <td style=\"padding-left: 1em; padding-right: 1em; text-align: center; vertical-align: top\">Horn Concerto No. 4 in E<br>flat K495: II. Romance ...</td>\n",
              "        <td style=\"padding-left: 1em; padding-right: 1em; text-align: center; vertical-align: top\">3161.0</td>\n",
              "        <td style=\"padding-left: 1em; padding-right: 1em; text-align: center; vertical-align: top\">6</td>\n",
              "    </tr>\n",
              "    <tr>\n",
              "        <td style=\"padding-left: 1em; padding-right: 1em; text-align: center; vertical-align: top\">c66c10a9567f0d82ff31441a9<br>fd5063e5cd9dfe8 ...</td>\n",
              "        <td style=\"padding-left: 1em; padding-right: 1em; text-align: center; vertical-align: top\">Secrets - OneRepublic</td>\n",
              "        <td style=\"padding-left: 1em; padding-right: 1em; text-align: center; vertical-align: top\">3148.0</td>\n",
              "        <td style=\"padding-left: 1em; padding-right: 1em; text-align: center; vertical-align: top\">7</td>\n",
              "    </tr>\n",
              "    <tr>\n",
              "        <td style=\"padding-left: 1em; padding-right: 1em; text-align: center; vertical-align: top\">c66c10a9567f0d82ff31441a9<br>fd5063e5cd9dfe8 ...</td>\n",
              "        <td style=\"padding-left: 1em; padding-right: 1em; text-align: center; vertical-align: top\">Fireflies - Charttraxx<br>Karaoke ...</td>\n",
              "        <td style=\"padding-left: 1em; padding-right: 1em; text-align: center; vertical-align: top\">2532.0</td>\n",
              "        <td style=\"padding-left: 1em; padding-right: 1em; text-align: center; vertical-align: top\">8</td>\n",
              "    </tr>\n",
              "    <tr>\n",
              "        <td style=\"padding-left: 1em; padding-right: 1em; text-align: center; vertical-align: top\">c66c10a9567f0d82ff31441a9<br>fd5063e5cd9dfe8 ...</td>\n",
              "        <td style=\"padding-left: 1em; padding-right: 1em; text-align: center; vertical-align: top\">Tive Sim - Cartola</td>\n",
              "        <td style=\"padding-left: 1em; padding-right: 1em; text-align: center; vertical-align: top\">2521.0</td>\n",
              "        <td style=\"padding-left: 1em; padding-right: 1em; text-align: center; vertical-align: top\">9</td>\n",
              "    </tr>\n",
              "    <tr>\n",
              "        <td style=\"padding-left: 1em; padding-right: 1em; text-align: center; vertical-align: top\">c66c10a9567f0d82ff31441a9<br>fd5063e5cd9dfe8 ...</td>\n",
              "        <td style=\"padding-left: 1em; padding-right: 1em; text-align: center; vertical-align: top\">Drop The World - Lil<br>Wayne / Eminem ...</td>\n",
              "        <td style=\"padding-left: 1em; padding-right: 1em; text-align: center; vertical-align: top\">2053.0</td>\n",
              "        <td style=\"padding-left: 1em; padding-right: 1em; text-align: center; vertical-align: top\">10</td>\n",
              "    </tr>\n",
              "</table>\n",
              "[10 rows x 4 columns]<br/>\n",
              "</div>"
            ],
            "text/plain": [
              "Columns:\n",
              "\tuser_id\tstr\n",
              "\tsong\tstr\n",
              "\tscore\tfloat\n",
              "\trank\tint\n",
              "\n",
              "Rows: 10\n",
              "\n",
              "Data:\n",
              "+-------------------------------+--------------------------------+--------+------+\n",
              "|            user_id            |              song              | score  | rank |\n",
              "+-------------------------------+--------------------------------+--------+------+\n",
              "| c66c10a9567f0d82ff31441a9f... |    Sehr kosmisch - Harmonia    | 4754.0 |  1   |\n",
              "| c66c10a9567f0d82ff31441a9f... |          Undo - Björk          | 4227.0 |  2   |\n",
              "| c66c10a9567f0d82ff31441a9f... | You're The One - Dwight Yoakam | 3781.0 |  3   |\n",
              "| c66c10a9567f0d82ff31441a9f... | Dog Days Are Over (Radio E...  | 3633.0 |  4   |\n",
              "| c66c10a9567f0d82ff31441a9f... |    Revelry - Kings Of Leon     | 3527.0 |  5   |\n",
              "| c66c10a9567f0d82ff31441a9f... | Horn Concerto No. 4 in E f...  | 3161.0 |  6   |\n",
              "| c66c10a9567f0d82ff31441a9f... |     Secrets - OneRepublic      | 3148.0 |  7   |\n",
              "| c66c10a9567f0d82ff31441a9f... | Fireflies - Charttraxx Karaoke | 2532.0 |  8   |\n",
              "| c66c10a9567f0d82ff31441a9f... |       Tive Sim - Cartola       | 2521.0 |  9   |\n",
              "| c66c10a9567f0d82ff31441a9f... | Drop The World - Lil Wayne...  | 2053.0 |  10  |\n",
              "+-------------------------------+--------------------------------+--------+------+\n",
              "[10 rows x 4 columns]"
            ]
          },
          "metadata": {
            "tags": []
          },
          "execution_count": 18
        }
      ]
    },
    {
      "cell_type": "code",
      "metadata": {
        "id": "Rrk0PdgYdLfq",
        "colab_type": "code",
        "colab": {
          "base_uri": "https://localhost:8080/",
          "height": 415
        },
        "outputId": "b3b03f5b-91e8-4c5e-95a4-4fd90fe4f0e4"
      },
      "source": [
        "popularity_model.recommend(users=[users[1]])"
      ],
      "execution_count": 19,
      "outputs": [
        {
          "output_type": "execute_result",
          "data": {
            "text/html": [
              "<div style=\"max-height:1000px;max-width:1500px;overflow:auto;\"><table frame=\"box\" rules=\"cols\">\n",
              "    <tr>\n",
              "        <th style=\"padding-left: 1em; padding-right: 1em; text-align: center\">user_id</th>\n",
              "        <th style=\"padding-left: 1em; padding-right: 1em; text-align: center\">song</th>\n",
              "        <th style=\"padding-left: 1em; padding-right: 1em; text-align: center\">score</th>\n",
              "        <th style=\"padding-left: 1em; padding-right: 1em; text-align: center\">rank</th>\n",
              "    </tr>\n",
              "    <tr>\n",
              "        <td style=\"padding-left: 1em; padding-right: 1em; text-align: center; vertical-align: top\">02f015d32ac2cd1e52d26e3ec<br>36048711dd5711b ...</td>\n",
              "        <td style=\"padding-left: 1em; padding-right: 1em; text-align: center; vertical-align: top\">Sehr kosmisch - Harmonia</td>\n",
              "        <td style=\"padding-left: 1em; padding-right: 1em; text-align: center; vertical-align: top\">4754.0</td>\n",
              "        <td style=\"padding-left: 1em; padding-right: 1em; text-align: center; vertical-align: top\">1</td>\n",
              "    </tr>\n",
              "    <tr>\n",
              "        <td style=\"padding-left: 1em; padding-right: 1em; text-align: center; vertical-align: top\">02f015d32ac2cd1e52d26e3ec<br>36048711dd5711b ...</td>\n",
              "        <td style=\"padding-left: 1em; padding-right: 1em; text-align: center; vertical-align: top\">Undo - Björk</td>\n",
              "        <td style=\"padding-left: 1em; padding-right: 1em; text-align: center; vertical-align: top\">4227.0</td>\n",
              "        <td style=\"padding-left: 1em; padding-right: 1em; text-align: center; vertical-align: top\">2</td>\n",
              "    </tr>\n",
              "    <tr>\n",
              "        <td style=\"padding-left: 1em; padding-right: 1em; text-align: center; vertical-align: top\">02f015d32ac2cd1e52d26e3ec<br>36048711dd5711b ...</td>\n",
              "        <td style=\"padding-left: 1em; padding-right: 1em; text-align: center; vertical-align: top\">You&#x27;re The One - Dwight<br>Yoakam ...</td>\n",
              "        <td style=\"padding-left: 1em; padding-right: 1em; text-align: center; vertical-align: top\">3781.0</td>\n",
              "        <td style=\"padding-left: 1em; padding-right: 1em; text-align: center; vertical-align: top\">3</td>\n",
              "    </tr>\n",
              "    <tr>\n",
              "        <td style=\"padding-left: 1em; padding-right: 1em; text-align: center; vertical-align: top\">02f015d32ac2cd1e52d26e3ec<br>36048711dd5711b ...</td>\n",
              "        <td style=\"padding-left: 1em; padding-right: 1em; text-align: center; vertical-align: top\">Dog Days Are Over (Radio<br>Edit) - Florence + The ...</td>\n",
              "        <td style=\"padding-left: 1em; padding-right: 1em; text-align: center; vertical-align: top\">3633.0</td>\n",
              "        <td style=\"padding-left: 1em; padding-right: 1em; text-align: center; vertical-align: top\">4</td>\n",
              "    </tr>\n",
              "    <tr>\n",
              "        <td style=\"padding-left: 1em; padding-right: 1em; text-align: center; vertical-align: top\">02f015d32ac2cd1e52d26e3ec<br>36048711dd5711b ...</td>\n",
              "        <td style=\"padding-left: 1em; padding-right: 1em; text-align: center; vertical-align: top\">Revelry - Kings Of Leon</td>\n",
              "        <td style=\"padding-left: 1em; padding-right: 1em; text-align: center; vertical-align: top\">3527.0</td>\n",
              "        <td style=\"padding-left: 1em; padding-right: 1em; text-align: center; vertical-align: top\">5</td>\n",
              "    </tr>\n",
              "    <tr>\n",
              "        <td style=\"padding-left: 1em; padding-right: 1em; text-align: center; vertical-align: top\">02f015d32ac2cd1e52d26e3ec<br>36048711dd5711b ...</td>\n",
              "        <td style=\"padding-left: 1em; padding-right: 1em; text-align: center; vertical-align: top\">Horn Concerto No. 4 in E<br>flat K495: II. Romance ...</td>\n",
              "        <td style=\"padding-left: 1em; padding-right: 1em; text-align: center; vertical-align: top\">3161.0</td>\n",
              "        <td style=\"padding-left: 1em; padding-right: 1em; text-align: center; vertical-align: top\">6</td>\n",
              "    </tr>\n",
              "    <tr>\n",
              "        <td style=\"padding-left: 1em; padding-right: 1em; text-align: center; vertical-align: top\">02f015d32ac2cd1e52d26e3ec<br>36048711dd5711b ...</td>\n",
              "        <td style=\"padding-left: 1em; padding-right: 1em; text-align: center; vertical-align: top\">Secrets - OneRepublic</td>\n",
              "        <td style=\"padding-left: 1em; padding-right: 1em; text-align: center; vertical-align: top\">3148.0</td>\n",
              "        <td style=\"padding-left: 1em; padding-right: 1em; text-align: center; vertical-align: top\">7</td>\n",
              "    </tr>\n",
              "    <tr>\n",
              "        <td style=\"padding-left: 1em; padding-right: 1em; text-align: center; vertical-align: top\">02f015d32ac2cd1e52d26e3ec<br>36048711dd5711b ...</td>\n",
              "        <td style=\"padding-left: 1em; padding-right: 1em; text-align: center; vertical-align: top\">Hey_ Soul Sister - Train</td>\n",
              "        <td style=\"padding-left: 1em; padding-right: 1em; text-align: center; vertical-align: top\">2538.0</td>\n",
              "        <td style=\"padding-left: 1em; padding-right: 1em; text-align: center; vertical-align: top\">8</td>\n",
              "    </tr>\n",
              "    <tr>\n",
              "        <td style=\"padding-left: 1em; padding-right: 1em; text-align: center; vertical-align: top\">02f015d32ac2cd1e52d26e3ec<br>36048711dd5711b ...</td>\n",
              "        <td style=\"padding-left: 1em; padding-right: 1em; text-align: center; vertical-align: top\">Fireflies - Charttraxx<br>Karaoke ...</td>\n",
              "        <td style=\"padding-left: 1em; padding-right: 1em; text-align: center; vertical-align: top\">2532.0</td>\n",
              "        <td style=\"padding-left: 1em; padding-right: 1em; text-align: center; vertical-align: top\">9</td>\n",
              "    </tr>\n",
              "    <tr>\n",
              "        <td style=\"padding-left: 1em; padding-right: 1em; text-align: center; vertical-align: top\">02f015d32ac2cd1e52d26e3ec<br>36048711dd5711b ...</td>\n",
              "        <td style=\"padding-left: 1em; padding-right: 1em; text-align: center; vertical-align: top\">Tive Sim - Cartola</td>\n",
              "        <td style=\"padding-left: 1em; padding-right: 1em; text-align: center; vertical-align: top\">2521.0</td>\n",
              "        <td style=\"padding-left: 1em; padding-right: 1em; text-align: center; vertical-align: top\">10</td>\n",
              "    </tr>\n",
              "</table>\n",
              "[10 rows x 4 columns]<br/>\n",
              "</div>"
            ],
            "text/plain": [
              "Columns:\n",
              "\tuser_id\tstr\n",
              "\tsong\tstr\n",
              "\tscore\tfloat\n",
              "\trank\tint\n",
              "\n",
              "Rows: 10\n",
              "\n",
              "Data:\n",
              "+-------------------------------+--------------------------------+--------+------+\n",
              "|            user_id            |              song              | score  | rank |\n",
              "+-------------------------------+--------------------------------+--------+------+\n",
              "| 02f015d32ac2cd1e52d26e3ec3... |    Sehr kosmisch - Harmonia    | 4754.0 |  1   |\n",
              "| 02f015d32ac2cd1e52d26e3ec3... |          Undo - Björk          | 4227.0 |  2   |\n",
              "| 02f015d32ac2cd1e52d26e3ec3... | You're The One - Dwight Yoakam | 3781.0 |  3   |\n",
              "| 02f015d32ac2cd1e52d26e3ec3... | Dog Days Are Over (Radio E...  | 3633.0 |  4   |\n",
              "| 02f015d32ac2cd1e52d26e3ec3... |    Revelry - Kings Of Leon     | 3527.0 |  5   |\n",
              "| 02f015d32ac2cd1e52d26e3ec3... | Horn Concerto No. 4 in E f...  | 3161.0 |  6   |\n",
              "| 02f015d32ac2cd1e52d26e3ec3... |     Secrets - OneRepublic      | 3148.0 |  7   |\n",
              "| 02f015d32ac2cd1e52d26e3ec3... |    Hey_ Soul Sister - Train    | 2538.0 |  8   |\n",
              "| 02f015d32ac2cd1e52d26e3ec3... | Fireflies - Charttraxx Karaoke | 2532.0 |  9   |\n",
              "| 02f015d32ac2cd1e52d26e3ec3... |       Tive Sim - Cartola       | 2521.0 |  10  |\n",
              "+-------------------------------+--------------------------------+--------+------+\n",
              "[10 rows x 4 columns]"
            ]
          },
          "metadata": {
            "tags": []
          },
          "execution_count": 19
        }
      ]
    },
    {
      "cell_type": "code",
      "metadata": {
        "id": "EjxohJjsdQvK",
        "colab_type": "code",
        "colab": {
          "base_uri": "https://localhost:8080/",
          "height": 462
        },
        "outputId": "8db8f804-d137-4f14-e68c-e11025ed0a42"
      },
      "source": [
        "personlized_model = tc.item_similarity_recommender.create(train_data,user_id='user_id', item_id='song')"
      ],
      "execution_count": 21,
      "outputs": [
        {
          "output_type": "display_data",
          "data": {
            "text/html": [
              "<pre>Warning: Ignoring columns song_id, listen_count, title, artist;</pre>"
            ],
            "text/plain": [
              "Warning: Ignoring columns song_id, listen_count, title, artist;"
            ]
          },
          "metadata": {
            "tags": []
          }
        },
        {
          "output_type": "display_data",
          "data": {
            "text/html": [
              "<pre> To use one of these as a rating column, specify the column name to be used as target</pre>"
            ],
            "text/plain": [
              " To use one of these as a rating column, specify the column name to be used as target"
            ]
          },
          "metadata": {
            "tags": []
          }
        },
        {
          "output_type": "display_data",
          "data": {
            "text/html": [
              "<pre>    and use a method that allows the use of a target.</pre>"
            ],
            "text/plain": [
              "    and use a method that allows the use of a target."
            ]
          },
          "metadata": {
            "tags": []
          }
        },
        {
          "output_type": "display_data",
          "data": {
            "text/html": [
              "<pre>Preparing data set.</pre>"
            ],
            "text/plain": [
              "Preparing data set."
            ]
          },
          "metadata": {
            "tags": []
          }
        },
        {
          "output_type": "display_data",
          "data": {
            "text/html": [
              "<pre>    Data has 893580 observations with 66085 users and 9952 items.</pre>"
            ],
            "text/plain": [
              "    Data has 893580 observations with 66085 users and 9952 items."
            ]
          },
          "metadata": {
            "tags": []
          }
        },
        {
          "output_type": "display_data",
          "data": {
            "text/html": [
              "<pre>    Data prepared in: 1.5093s</pre>"
            ],
            "text/plain": [
              "    Data prepared in: 1.5093s"
            ]
          },
          "metadata": {
            "tags": []
          }
        },
        {
          "output_type": "display_data",
          "data": {
            "text/html": [
              "<pre>Training model from provided data.</pre>"
            ],
            "text/plain": [
              "Training model from provided data."
            ]
          },
          "metadata": {
            "tags": []
          }
        },
        {
          "output_type": "display_data",
          "data": {
            "text/html": [
              "<pre>Gathering per-item and per-user statistics.</pre>"
            ],
            "text/plain": [
              "Gathering per-item and per-user statistics."
            ]
          },
          "metadata": {
            "tags": []
          }
        },
        {
          "output_type": "display_data",
          "data": {
            "text/html": [
              "<pre>+--------------------------------+------------+</pre>"
            ],
            "text/plain": [
              "+--------------------------------+------------+"
            ]
          },
          "metadata": {
            "tags": []
          }
        },
        {
          "output_type": "display_data",
          "data": {
            "text/html": [
              "<pre>| Elapsed Time (Item Statistics) | % Complete |</pre>"
            ],
            "text/plain": [
              "| Elapsed Time (Item Statistics) | % Complete |"
            ]
          },
          "metadata": {
            "tags": []
          }
        },
        {
          "output_type": "display_data",
          "data": {
            "text/html": [
              "<pre>+--------------------------------+------------+</pre>"
            ],
            "text/plain": [
              "+--------------------------------+------------+"
            ]
          },
          "metadata": {
            "tags": []
          }
        },
        {
          "output_type": "display_data",
          "data": {
            "text/html": [
              "<pre>| 1.438ms                        | 1.5        |</pre>"
            ],
            "text/plain": [
              "| 1.438ms                        | 1.5        |"
            ]
          },
          "metadata": {
            "tags": []
          }
        },
        {
          "output_type": "display_data",
          "data": {
            "text/html": [
              "<pre>| 49.453ms                       | 100        |</pre>"
            ],
            "text/plain": [
              "| 49.453ms                       | 100        |"
            ]
          },
          "metadata": {
            "tags": []
          }
        },
        {
          "output_type": "display_data",
          "data": {
            "text/html": [
              "<pre>+--------------------------------+------------+</pre>"
            ],
            "text/plain": [
              "+--------------------------------+------------+"
            ]
          },
          "metadata": {
            "tags": []
          }
        },
        {
          "output_type": "display_data",
          "data": {
            "text/html": [
              "<pre>Setting up lookup tables.</pre>"
            ],
            "text/plain": [
              "Setting up lookup tables."
            ]
          },
          "metadata": {
            "tags": []
          }
        },
        {
          "output_type": "display_data",
          "data": {
            "text/html": [
              "<pre>Processing data in one pass using dense lookup tables.</pre>"
            ],
            "text/plain": [
              "Processing data in one pass using dense lookup tables."
            ]
          },
          "metadata": {
            "tags": []
          }
        },
        {
          "output_type": "display_data",
          "data": {
            "text/html": [
              "<pre>+-------------------------------------+------------------+-----------------+</pre>"
            ],
            "text/plain": [
              "+-------------------------------------+------------------+-----------------+"
            ]
          },
          "metadata": {
            "tags": []
          }
        },
        {
          "output_type": "display_data",
          "data": {
            "text/html": [
              "<pre>| Elapsed Time (Constructing Lookups) | Total % Complete | Items Processed |</pre>"
            ],
            "text/plain": [
              "| Elapsed Time (Constructing Lookups) | Total % Complete | Items Processed |"
            ]
          },
          "metadata": {
            "tags": []
          }
        },
        {
          "output_type": "display_data",
          "data": {
            "text/html": [
              "<pre>+-------------------------------------+------------------+-----------------+</pre>"
            ],
            "text/plain": [
              "+-------------------------------------+------------------+-----------------+"
            ]
          },
          "metadata": {
            "tags": []
          }
        },
        {
          "output_type": "display_data",
          "data": {
            "text/html": [
              "<pre>| 583.549ms                           | 0                | 0               |</pre>"
            ],
            "text/plain": [
              "| 583.549ms                           | 0                | 0               |"
            ]
          },
          "metadata": {
            "tags": []
          }
        },
        {
          "output_type": "display_data",
          "data": {
            "text/html": [
              "<pre>| 2.28s                               | 100              | 9952            |</pre>"
            ],
            "text/plain": [
              "| 2.28s                               | 100              | 9952            |"
            ]
          },
          "metadata": {
            "tags": []
          }
        },
        {
          "output_type": "display_data",
          "data": {
            "text/html": [
              "<pre>+-------------------------------------+------------------+-----------------+</pre>"
            ],
            "text/plain": [
              "+-------------------------------------+------------------+-----------------+"
            ]
          },
          "metadata": {
            "tags": []
          }
        },
        {
          "output_type": "display_data",
          "data": {
            "text/html": [
              "<pre>Finalizing lookup tables.</pre>"
            ],
            "text/plain": [
              "Finalizing lookup tables."
            ]
          },
          "metadata": {
            "tags": []
          }
        },
        {
          "output_type": "display_data",
          "data": {
            "text/html": [
              "<pre>Generating candidate set for working with new users.</pre>"
            ],
            "text/plain": [
              "Generating candidate set for working with new users."
            ]
          },
          "metadata": {
            "tags": []
          }
        },
        {
          "output_type": "display_data",
          "data": {
            "text/html": [
              "<pre>Finished training in 3.36114s</pre>"
            ],
            "text/plain": [
              "Finished training in 3.36114s"
            ]
          },
          "metadata": {
            "tags": []
          }
        }
      ]
    },
    {
      "cell_type": "code",
      "metadata": {
        "id": "5OFobxEVd5WB",
        "colab_type": "code",
        "colab": {
          "base_uri": "https://localhost:8080/",
          "height": 568
        },
        "outputId": "885ba04c-cd50-41c1-afc2-020bf563a517"
      },
      "source": [
        "personlized_model.recommend(users=[users[1]])"
      ],
      "execution_count": 26,
      "outputs": [
        {
          "output_type": "execute_result",
          "data": {
            "text/html": [
              "<div style=\"max-height:1000px;max-width:1500px;overflow:auto;\"><table frame=\"box\" rules=\"cols\">\n",
              "    <tr>\n",
              "        <th style=\"padding-left: 1em; padding-right: 1em; text-align: center\">user_id</th>\n",
              "        <th style=\"padding-left: 1em; padding-right: 1em; text-align: center\">song</th>\n",
              "        <th style=\"padding-left: 1em; padding-right: 1em; text-align: center\">score</th>\n",
              "        <th style=\"padding-left: 1em; padding-right: 1em; text-align: center\">rank</th>\n",
              "    </tr>\n",
              "    <tr>\n",
              "        <td style=\"padding-left: 1em; padding-right: 1em; text-align: center; vertical-align: top\">02f015d32ac2cd1e52d26e3ec<br>36048711dd5711b ...</td>\n",
              "        <td style=\"padding-left: 1em; padding-right: 1em; text-align: center; vertical-align: top\">Where The Boat Leaves<br>From (Album) - Zac Brown ...</td>\n",
              "        <td style=\"padding-left: 1em; padding-right: 1em; text-align: center; vertical-align: top\">0.06153608858585358</td>\n",
              "        <td style=\"padding-left: 1em; padding-right: 1em; text-align: center; vertical-align: top\">1</td>\n",
              "    </tr>\n",
              "    <tr>\n",
              "        <td style=\"padding-left: 1em; padding-right: 1em; text-align: center; vertical-align: top\">02f015d32ac2cd1e52d26e3ec<br>36048711dd5711b ...</td>\n",
              "        <td style=\"padding-left: 1em; padding-right: 1em; text-align: center; vertical-align: top\">Different Kind Of Fine<br>(Album) - Zac Brown Band ...</td>\n",
              "        <td style=\"padding-left: 1em; padding-right: 1em; text-align: center; vertical-align: top\">0.06052837520837784</td>\n",
              "        <td style=\"padding-left: 1em; padding-right: 1em; text-align: center; vertical-align: top\">2</td>\n",
              "    </tr>\n",
              "    <tr>\n",
              "        <td style=\"padding-left: 1em; padding-right: 1em; text-align: center; vertical-align: top\">02f015d32ac2cd1e52d26e3ec<br>36048711dd5711b ...</td>\n",
              "        <td style=\"padding-left: 1em; padding-right: 1em; text-align: center; vertical-align: top\">Jolene (Album) - Zac<br>Brown Band ...</td>\n",
              "        <td style=\"padding-left: 1em; padding-right: 1em; text-align: center; vertical-align: top\">0.05786820501089096</td>\n",
              "        <td style=\"padding-left: 1em; padding-right: 1em; text-align: center; vertical-align: top\">3</td>\n",
              "    </tr>\n",
              "    <tr>\n",
              "        <td style=\"padding-left: 1em; padding-right: 1em; text-align: center; vertical-align: top\">02f015d32ac2cd1e52d26e3ec<br>36048711dd5711b ...</td>\n",
              "        <td style=\"padding-left: 1em; padding-right: 1em; text-align: center; vertical-align: top\">Sic &#x27;Em On A Chicken<br>(Album) - Zac Brown Band ...</td>\n",
              "        <td style=\"padding-left: 1em; padding-right: 1em; text-align: center; vertical-align: top\">0.05518669635057449</td>\n",
              "        <td style=\"padding-left: 1em; padding-right: 1em; text-align: center; vertical-align: top\">4</td>\n",
              "    </tr>\n",
              "    <tr>\n",
              "        <td style=\"padding-left: 1em; padding-right: 1em; text-align: center; vertical-align: top\">02f015d32ac2cd1e52d26e3ec<br>36048711dd5711b ...</td>\n",
              "        <td style=\"padding-left: 1em; padding-right: 1em; text-align: center; vertical-align: top\">Who&#x27;s Kissing You Tonight<br>- Jason Aldean ...</td>\n",
              "        <td style=\"padding-left: 1em; padding-right: 1em; text-align: center; vertical-align: top\">0.05306333303451538</td>\n",
              "        <td style=\"padding-left: 1em; padding-right: 1em; text-align: center; vertical-align: top\">5</td>\n",
              "    </tr>\n",
              "    <tr>\n",
              "        <td style=\"padding-left: 1em; padding-right: 1em; text-align: center; vertical-align: top\">02f015d32ac2cd1e52d26e3ec<br>36048711dd5711b ...</td>\n",
              "        <td style=\"padding-left: 1em; padding-right: 1em; text-align: center; vertical-align: top\">What Country Is - Luke<br>Bryan ...</td>\n",
              "        <td style=\"padding-left: 1em; padding-right: 1em; text-align: center; vertical-align: top\">0.037490807473659515</td>\n",
              "        <td style=\"padding-left: 1em; padding-right: 1em; text-align: center; vertical-align: top\">6</td>\n",
              "    </tr>\n",
              "    <tr>\n",
              "        <td style=\"padding-left: 1em; padding-right: 1em; text-align: center; vertical-align: top\">02f015d32ac2cd1e52d26e3ec<br>36048711dd5711b ...</td>\n",
              "        <td style=\"padding-left: 1em; padding-right: 1em; text-align: center; vertical-align: top\">Highway 20 Ride (Album) -<br>Zac Brown Band ...</td>\n",
              "        <td style=\"padding-left: 1em; padding-right: 1em; text-align: center; vertical-align: top\">0.03733157366514206</td>\n",
              "        <td style=\"padding-left: 1em; padding-right: 1em; text-align: center; vertical-align: top\">7</td>\n",
              "    </tr>\n",
              "    <tr>\n",
              "        <td style=\"padding-left: 1em; padding-right: 1em; text-align: center; vertical-align: top\">02f015d32ac2cd1e52d26e3ec<br>36048711dd5711b ...</td>\n",
              "        <td style=\"padding-left: 1em; padding-right: 1em; text-align: center; vertical-align: top\">Do I - Luke Bryan</td>\n",
              "        <td style=\"padding-left: 1em; padding-right: 1em; text-align: center; vertical-align: top\">0.033077359199523926</td>\n",
              "        <td style=\"padding-left: 1em; padding-right: 1em; text-align: center; vertical-align: top\">8</td>\n",
              "    </tr>\n",
              "    <tr>\n",
              "        <td style=\"padding-left: 1em; padding-right: 1em; text-align: center; vertical-align: top\">02f015d32ac2cd1e52d26e3ec<br>36048711dd5711b ...</td>\n",
              "        <td style=\"padding-left: 1em; padding-right: 1em; text-align: center; vertical-align: top\">One Fine Wire - Colbie<br>Caillat ...</td>\n",
              "        <td style=\"padding-left: 1em; padding-right: 1em; text-align: center; vertical-align: top\">0.03125</td>\n",
              "        <td style=\"padding-left: 1em; padding-right: 1em; text-align: center; vertical-align: top\">9</td>\n",
              "    </tr>\n",
              "    <tr>\n",
              "        <td style=\"padding-left: 1em; padding-right: 1em; text-align: center; vertical-align: top\">02f015d32ac2cd1e52d26e3ec<br>36048711dd5711b ...</td>\n",
              "        <td style=\"padding-left: 1em; padding-right: 1em; text-align: center; vertical-align: top\">Midnight Bottle - Colbie<br>Caillat ...</td>\n",
              "        <td style=\"padding-left: 1em; padding-right: 1em; text-align: center; vertical-align: top\">0.030737705528736115</td>\n",
              "        <td style=\"padding-left: 1em; padding-right: 1em; text-align: center; vertical-align: top\">10</td>\n",
              "    </tr>\n",
              "</table>\n",
              "[10 rows x 4 columns]<br/>\n",
              "</div>"
            ],
            "text/plain": [
              "Columns:\n",
              "\tuser_id\tstr\n",
              "\tsong\tstr\n",
              "\tscore\tfloat\n",
              "\trank\tint\n",
              "\n",
              "Rows: 10\n",
              "\n",
              "Data:\n",
              "+-------------------------------+--------------------------------+\n",
              "|            user_id            |              song              |\n",
              "+-------------------------------+--------------------------------+\n",
              "| 02f015d32ac2cd1e52d26e3ec3... | Where The Boat Leaves From...  |\n",
              "| 02f015d32ac2cd1e52d26e3ec3... | Different Kind Of Fine (Al...  |\n",
              "| 02f015d32ac2cd1e52d26e3ec3... | Jolene (Album) - Zac Brown...  |\n",
              "| 02f015d32ac2cd1e52d26e3ec3... | Sic 'Em On A Chicken (Albu...  |\n",
              "| 02f015d32ac2cd1e52d26e3ec3... | Who's Kissing You Tonight ...  |\n",
              "| 02f015d32ac2cd1e52d26e3ec3... |  What Country Is - Luke Bryan  |\n",
              "| 02f015d32ac2cd1e52d26e3ec3... | Highway 20 Ride (Album) - ...  |\n",
              "| 02f015d32ac2cd1e52d26e3ec3... |       Do I - Luke Bryan        |\n",
              "| 02f015d32ac2cd1e52d26e3ec3... | One Fine Wire - Colbie Caillat |\n",
              "| 02f015d32ac2cd1e52d26e3ec3... | Midnight Bottle - Colbie C...  |\n",
              "+-------------------------------+--------------------------------+\n",
              "+----------------------+------+\n",
              "|        score         | rank |\n",
              "+----------------------+------+\n",
              "| 0.06153608858585358  |  1   |\n",
              "| 0.06052837520837784  |  2   |\n",
              "| 0.05786820501089096  |  3   |\n",
              "| 0.05518669635057449  |  4   |\n",
              "| 0.05306333303451538  |  5   |\n",
              "| 0.037490807473659515 |  6   |\n",
              "| 0.03733157366514206  |  7   |\n",
              "| 0.033077359199523926 |  8   |\n",
              "|       0.03125        |  9   |\n",
              "| 0.030737705528736115 |  10  |\n",
              "+----------------------+------+\n",
              "[10 rows x 4 columns]"
            ]
          },
          "metadata": {
            "tags": []
          },
          "execution_count": 26
        }
      ]
    },
    {
      "cell_type": "code",
      "metadata": {
        "id": "k_o2ok-6eF-a",
        "colab_type": "code",
        "colab": {
          "base_uri": "https://localhost:8080/",
          "height": 415
        },
        "outputId": "ad73b833-5b87-4bb1-aed5-3c7f0d564c8c"
      },
      "source": [
        "personlized_model.get_similar_items(items=['With Or Without You - U2'])"
      ],
      "execution_count": 27,
      "outputs": [
        {
          "output_type": "execute_result",
          "data": {
            "text/html": [
              "<div style=\"max-height:1000px;max-width:1500px;overflow:auto;\"><table frame=\"box\" rules=\"cols\">\n",
              "    <tr>\n",
              "        <th style=\"padding-left: 1em; padding-right: 1em; text-align: center\">song</th>\n",
              "        <th style=\"padding-left: 1em; padding-right: 1em; text-align: center\">similar</th>\n",
              "        <th style=\"padding-left: 1em; padding-right: 1em; text-align: center\">score</th>\n",
              "        <th style=\"padding-left: 1em; padding-right: 1em; text-align: center\">rank</th>\n",
              "    </tr>\n",
              "    <tr>\n",
              "        <td style=\"padding-left: 1em; padding-right: 1em; text-align: center; vertical-align: top\">With Or Without You - U2</td>\n",
              "        <td style=\"padding-left: 1em; padding-right: 1em; text-align: center; vertical-align: top\">I Still Haven&#x27;t Found<br>What I&#x27;m Looking For  ...</td>\n",
              "        <td style=\"padding-left: 1em; padding-right: 1em; text-align: center; vertical-align: top\">0.04285717010498047</td>\n",
              "        <td style=\"padding-left: 1em; padding-right: 1em; text-align: center; vertical-align: top\">1</td>\n",
              "    </tr>\n",
              "    <tr>\n",
              "        <td style=\"padding-left: 1em; padding-right: 1em; text-align: center; vertical-align: top\">With Or Without You - U2</td>\n",
              "        <td style=\"padding-left: 1em; padding-right: 1em; text-align: center; vertical-align: top\">Hold Me_ Thrill Me_ Kiss<br>Me_ Kill Me - U2 ...</td>\n",
              "        <td style=\"padding-left: 1em; padding-right: 1em; text-align: center; vertical-align: top\">0.033734917640686035</td>\n",
              "        <td style=\"padding-left: 1em; padding-right: 1em; text-align: center; vertical-align: top\">2</td>\n",
              "    </tr>\n",
              "    <tr>\n",
              "        <td style=\"padding-left: 1em; padding-right: 1em; text-align: center; vertical-align: top\">With Or Without You - U2</td>\n",
              "        <td style=\"padding-left: 1em; padding-right: 1em; text-align: center; vertical-align: top\">Window In The Skies - U2</td>\n",
              "        <td style=\"padding-left: 1em; padding-right: 1em; text-align: center; vertical-align: top\">0.03283584117889404</td>\n",
              "        <td style=\"padding-left: 1em; padding-right: 1em; text-align: center; vertical-align: top\">3</td>\n",
              "    </tr>\n",
              "    <tr>\n",
              "        <td style=\"padding-left: 1em; padding-right: 1em; text-align: center; vertical-align: top\">With Or Without You - U2</td>\n",
              "        <td style=\"padding-left: 1em; padding-right: 1em; text-align: center; vertical-align: top\">Vertigo - U2</td>\n",
              "        <td style=\"padding-left: 1em; padding-right: 1em; text-align: center; vertical-align: top\">0.03007519245147705</td>\n",
              "        <td style=\"padding-left: 1em; padding-right: 1em; text-align: center; vertical-align: top\">4</td>\n",
              "    </tr>\n",
              "    <tr>\n",
              "        <td style=\"padding-left: 1em; padding-right: 1em; text-align: center; vertical-align: top\">With Or Without You - U2</td>\n",
              "        <td style=\"padding-left: 1em; padding-right: 1em; text-align: center; vertical-align: top\">Sunday Bloody Sunday - U2</td>\n",
              "        <td style=\"padding-left: 1em; padding-right: 1em; text-align: center; vertical-align: top\">0.02713179588317871</td>\n",
              "        <td style=\"padding-left: 1em; padding-right: 1em; text-align: center; vertical-align: top\">5</td>\n",
              "    </tr>\n",
              "    <tr>\n",
              "        <td style=\"padding-left: 1em; padding-right: 1em; text-align: center; vertical-align: top\">With Or Without You - U2</td>\n",
              "        <td style=\"padding-left: 1em; padding-right: 1em; text-align: center; vertical-align: top\">Bad - U2</td>\n",
              "        <td style=\"padding-left: 1em; padding-right: 1em; text-align: center; vertical-align: top\">0.02517986297607422</td>\n",
              "        <td style=\"padding-left: 1em; padding-right: 1em; text-align: center; vertical-align: top\">6</td>\n",
              "    </tr>\n",
              "    <tr>\n",
              "        <td style=\"padding-left: 1em; padding-right: 1em; text-align: center; vertical-align: top\">With Or Without You - U2</td>\n",
              "        <td style=\"padding-left: 1em; padding-right: 1em; text-align: center; vertical-align: top\">A Day Without Me - U2</td>\n",
              "        <td style=\"padding-left: 1em; padding-right: 1em; text-align: center; vertical-align: top\">0.023715436458587646</td>\n",
              "        <td style=\"padding-left: 1em; padding-right: 1em; text-align: center; vertical-align: top\">7</td>\n",
              "    </tr>\n",
              "    <tr>\n",
              "        <td style=\"padding-left: 1em; padding-right: 1em; text-align: center; vertical-align: top\">With Or Without You - U2</td>\n",
              "        <td style=\"padding-left: 1em; padding-right: 1em; text-align: center; vertical-align: top\">Another Time Another<br>Place - U2 ...</td>\n",
              "        <td style=\"padding-left: 1em; padding-right: 1em; text-align: center; vertical-align: top\">0.020325183868408203</td>\n",
              "        <td style=\"padding-left: 1em; padding-right: 1em; text-align: center; vertical-align: top\">8</td>\n",
              "    </tr>\n",
              "    <tr>\n",
              "        <td style=\"padding-left: 1em; padding-right: 1em; text-align: center; vertical-align: top\">With Or Without You - U2</td>\n",
              "        <td style=\"padding-left: 1em; padding-right: 1em; text-align: center; vertical-align: top\">Walk On - U2</td>\n",
              "        <td style=\"padding-left: 1em; padding-right: 1em; text-align: center; vertical-align: top\">0.020202040672302246</td>\n",
              "        <td style=\"padding-left: 1em; padding-right: 1em; text-align: center; vertical-align: top\">9</td>\n",
              "    </tr>\n",
              "    <tr>\n",
              "        <td style=\"padding-left: 1em; padding-right: 1em; text-align: center; vertical-align: top\">With Or Without You - U2</td>\n",
              "        <td style=\"padding-left: 1em; padding-right: 1em; text-align: center; vertical-align: top\">Get On Your Boots - U2</td>\n",
              "        <td style=\"padding-left: 1em; padding-right: 1em; text-align: center; vertical-align: top\">0.019685029983520508</td>\n",
              "        <td style=\"padding-left: 1em; padding-right: 1em; text-align: center; vertical-align: top\">10</td>\n",
              "    </tr>\n",
              "</table>\n",
              "[10 rows x 4 columns]<br/>\n",
              "</div>"
            ],
            "text/plain": [
              "Columns:\n",
              "\tsong\tstr\n",
              "\tsimilar\tstr\n",
              "\tscore\tfloat\n",
              "\trank\tint\n",
              "\n",
              "Rows: 10\n",
              "\n",
              "Data:\n",
              "+--------------------------+-------------------------------+\n",
              "|           song           |            similar            |\n",
              "+--------------------------+-------------------------------+\n",
              "| With Or Without You - U2 | I Still Haven't Found What... |\n",
              "| With Or Without You - U2 | Hold Me_ Thrill Me_ Kiss M... |\n",
              "| With Or Without You - U2 |    Window In The Skies - U2   |\n",
              "| With Or Without You - U2 |          Vertigo - U2         |\n",
              "| With Or Without You - U2 |   Sunday Bloody Sunday - U2   |\n",
              "| With Or Without You - U2 |            Bad - U2           |\n",
              "| With Or Without You - U2 |     A Day Without Me - U2     |\n",
              "| With Or Without You - U2 | Another Time Another Place... |\n",
              "| With Or Without You - U2 |          Walk On - U2         |\n",
              "| With Or Without You - U2 |     Get On Your Boots - U2    |\n",
              "+--------------------------+-------------------------------+\n",
              "+----------------------+------+\n",
              "|        score         | rank |\n",
              "+----------------------+------+\n",
              "| 0.04285717010498047  |  1   |\n",
              "| 0.033734917640686035 |  2   |\n",
              "| 0.03283584117889404  |  3   |\n",
              "| 0.03007519245147705  |  4   |\n",
              "| 0.02713179588317871  |  5   |\n",
              "| 0.02517986297607422  |  6   |\n",
              "| 0.023715436458587646 |  7   |\n",
              "| 0.020325183868408203 |  8   |\n",
              "| 0.020202040672302246 |  9   |\n",
              "| 0.019685029983520508 |  10  |\n",
              "+----------------------+------+\n",
              "[10 rows x 4 columns]"
            ]
          },
          "metadata": {
            "tags": []
          },
          "execution_count": 27
        }
      ]
    },
    {
      "cell_type": "code",
      "metadata": {
        "id": "ZQGKUMlZe_rx",
        "colab_type": "code",
        "colab": {}
      },
      "source": [
        "import matplotlib.pyplot as plt\n",
        "%matplotlib inline"
      ],
      "execution_count": 28,
      "outputs": []
    },
    {
      "cell_type": "code",
      "metadata": {
        "id": "ItgS7A9sfoXE",
        "colab_type": "code",
        "colab": {
          "base_uri": "https://localhost:8080/",
          "height": 782
        },
        "outputId": "06ecc126-db9c-4265-cabf-f03f63bb6b4c"
      },
      "source": [
        "%matplotlib inline\n",
        "model_performance = tc.recommender.util.compare_models(test_data,[popularity_model,personlized_model],user_sample=0.05)"
      ],
      "execution_count": 30,
      "outputs": [
        {
          "output_type": "stream",
          "text": [
            "compare_models: using 2931 users to estimate model performance\n",
            "PROGRESS: Evaluate model M0\n"
          ],
          "name": "stdout"
        },
        {
          "output_type": "display_data",
          "data": {
            "text/html": [
              "<pre>recommendations finished on 1000/2931 queries. users per second: 2867.56</pre>"
            ],
            "text/plain": [
              "recommendations finished on 1000/2931 queries. users per second: 2867.56"
            ]
          },
          "metadata": {
            "tags": []
          }
        },
        {
          "output_type": "display_data",
          "data": {
            "text/html": [
              "<pre>recommendations finished on 2000/2931 queries. users per second: 2968.1</pre>"
            ],
            "text/plain": [
              "recommendations finished on 2000/2931 queries. users per second: 2968.1"
            ]
          },
          "metadata": {
            "tags": []
          }
        },
        {
          "output_type": "stream",
          "text": [
            "WARNING:root:Model trained without a target. Skipping RMSE computation.\n"
          ],
          "name": "stderr"
        },
        {
          "output_type": "stream",
          "text": [
            "\n",
            "Precision and recall summary statistics by cutoff\n",
            "+--------+----------------------+----------------------+\n",
            "| cutoff |    mean_precision    |     mean_recall      |\n",
            "+--------+----------------------+----------------------+\n",
            "|   1    | 0.024906175366769017 | 0.00560971876222644  |\n",
            "|   2    | 0.024053224155578302 | 0.01280549220672046  |\n",
            "|   3    | 0.022972819288070073 | 0.01818341728781854  |\n",
            "|   4    | 0.02175025588536336  | 0.023160479915853543 |\n",
            "|   5    | 0.019651995905834194 | 0.025804493281463625 |\n",
            "|   6    | 0.019276697372910285 | 0.031247950464941266 |\n",
            "|   7    | 0.01861870643856313  | 0.03573026351941399  |\n",
            "|   8    | 0.017186966905492988 | 0.037831899704980576 |\n",
            "|   9    | 0.016225027483983478 | 0.03980061695005406  |\n",
            "|   10   | 0.015796656431252155 | 0.04264825549370076  |\n",
            "+--------+----------------------+----------------------+\n",
            "[10 rows x 3 columns]\n",
            "\n",
            "PROGRESS: Evaluate model M1\n"
          ],
          "name": "stdout"
        },
        {
          "output_type": "display_data",
          "data": {
            "text/html": [
              "<pre>recommendations finished on 1000/2931 queries. users per second: 2795.58</pre>"
            ],
            "text/plain": [
              "recommendations finished on 1000/2931 queries. users per second: 2795.58"
            ]
          },
          "metadata": {
            "tags": []
          }
        },
        {
          "output_type": "display_data",
          "data": {
            "text/html": [
              "<pre>recommendations finished on 2000/2931 queries. users per second: 2856.53</pre>"
            ],
            "text/plain": [
              "recommendations finished on 2000/2931 queries. users per second: 2856.53"
            ]
          },
          "metadata": {
            "tags": []
          }
        },
        {
          "output_type": "stream",
          "text": [
            "WARNING:root:Model trained without a target. Skipping RMSE computation.\n"
          ],
          "name": "stderr"
        },
        {
          "output_type": "stream",
          "text": [
            "\n",
            "Precision and recall summary statistics by cutoff\n",
            "+--------+----------------------+---------------------+\n",
            "| cutoff |    mean_precision    |     mean_recall     |\n",
            "+--------+----------------------+---------------------+\n",
            "|   1    | 0.09143636983964525  | 0.03016349244598989 |\n",
            "|   2    | 0.07915387239849879  | 0.04735792942036549 |\n",
            "|   3    | 0.07164790174002061  | 0.06199265119428883 |\n",
            "|   4    | 0.06414193108154205  |  0.0722848221568795 |\n",
            "|   5    | 0.05820539065165471  | 0.08023202109691364 |\n",
            "|   6    | 0.053906516547253536 | 0.08857771176092566 |\n",
            "|   7    | 0.05107959253302138  | 0.09750852089644316 |\n",
            "|   8    | 0.048404981235073356 | 0.10605242117524608 |\n",
            "|   9    | 0.045718184919822685 | 0.11209418353737709 |\n",
            "|   10   | 0.043432275673831386 | 0.11748975843141661 |\n",
            "+--------+----------------------+---------------------+\n",
            "[10 rows x 3 columns]\n",
            "\n"
          ],
          "name": "stdout"
        }
      ]
    },
    {
      "cell_type": "code",
      "metadata": {
        "id": "Up4LP1Z1ghdW",
        "colab_type": "code",
        "colab": {}
      },
      "source": [
        "West = song[song['artist']=='Kanye West']"
      ],
      "execution_count": 31,
      "outputs": []
    },
    {
      "cell_type": "code",
      "metadata": {
        "id": "Hf6_H-Wph0sL",
        "colab_type": "code",
        "colab": {
          "base_uri": "https://localhost:8080/",
          "height": 88
        },
        "outputId": "ffc7deab-3cb3-4313-f76c-0d7e8d202c80"
      },
      "source": [
        "West['user_id'].unique()"
      ],
      "execution_count": 33,
      "outputs": [
        {
          "output_type": "execute_result",
          "data": {
            "text/plain": [
              "dtype: str\n",
              "Rows: 2522\n",
              "['900ed526660df9c3442ebe736db94eb0bc251b73', '5c604b6fc3d4077dfca40a57eea49388b69a19d6', 'b4c75391d49ce797c1af18468f1aa3ae5943f9de', '18325842a941bc58449ee71d659a08d1c1bd2383', '9685135efd0757150edb8d49e192fbb301e70e94', '71c17371dff96abe86663a7dc83e4334f3e4a67f', '9f78f038854c3ffb9e864ad281a7201d4dd999b2', 'b8474ad076d711b04a8732baab59872e72b487ff', 'd98c7abec08395694f7e469a8780d5cb54c809ba', 'b82c94bab6013453c2a0618f2079dff7c74599f0', '8c1022e54b28810ca20abb601328f1105f025125', '3abef8c80a5c697fcf7da4495bef26899ed13c77', 'c4f5e1f732f7ee646b58045d23643243abb561de', 'a90a12b1d303da46ecb3f77b8efd0d03370a9e86', 'e0c4690cbdd89e8817e7a25bce072b1ddc9618a5', '4c7f3dcad92dcb7e625aeb61e3b79d2fdffccc93', '744c384772ec76b403094d3ee97d2d6e07d3e0c3', 'ac76f1fb38d2c9c27178cccc502c2be2cc5b9acf', '82c458f2e9bc30f87890b408e5b965114989edf4', '37b97745b5649ca367aab9e4999528b470ecc692', 'd6dbb0578fe5baf513cad07fbf07801f89fd9313', '99d724639a1e51f53770236f24c87e2ca9126ec6', '07ca4e60b62326eeef7cff3bd95da257dc96b812', 'd36f8a8106e7f8f1dc111eb5cb5cc9dbe5ae07a9', '58fcc1ee8eb4bff5a9bedff6e7510f0167367c1a', '7a1e5f38af5197ee59857b48ac1eb2854e84a000', '2f03ae415b7efb7c015cdc79fa6166dcf1ddef32', '87fa091833add3a9b90404d4bae5d2cd709f632b', '790839cdd4ee24d5998952c1175848a51ec510a8', 'f34ffb77d1ca071bfa40fcf51fa5b716cd8f4219', 'fc7e6b0ab9b9ecd499369837f29ec8af3aa74489', '2bf4aa323998874797bff1b9a7d4049e38c2e706', 'efa2438cc0dba26b71b88fbf2b4fc27641c9a902', 'd0e43e3058cbd5a55ab57b5d367b154c35650419', 'e843882b389e96078a7b94476d9d1e884bd812e7', 'eb7f101c8b52a56d0e73100f5dbbd609df79c620', '9116c65d75343f5ac19f27b2eb8b1b447855e2ba', 'd6837d433e0f6731840991046ea4db076c1060db', 'ed328acd96a4147df93f64586eb56103ffa26c5e', '5d5e0142e54c3bb7b69f548c2ee55066c90700eb', '55a33f397fe9ef6dde63f140ff47666bc7a9247b', '95e20b2c4f1259ebf5cf4b05cbe9e7f7b9b79f74', '1dd37d51b9998623083f5b276ba8e95fdf72a0d5', 'f1a5555ab79f8a31c8d79112f7be7a84349bf92f', 'ff9de5c42ae7797c4cdcfb04370e77c51c80beef', '382868b3daba2e6924877d39492079944e998b55', 'de94198175aeadef534c4584691817d154cb9d41', 'd08fc0b2e67e4dc36b1b04397420a1cc2af137c0', '8584451eb3d5182afcbf9b5cc19e20e21f7cede2', 'c99946eb35e4afe71c11bc98fb5e5673a121db93', 'bdaba23f8e99fe6766d093d6849783e6316a500c', 'c1329a0da27e6ee4b09e570a71312111d4f0189c', '18142d8258c86a7f92be79afaff23390a4fd527a', 'c6a107ef87bd4fe87e399b5cf1c8d1e9c49f18de', '9ae6728cbd759d2cd5ab4ccbdc1ee0b35331c78b', '086ec1b75b81368a614a2ffb73087e1ce4e5f008', '59cdfbf5b20ad2c01fcc0f91efae59d8cc193be3', '31ba2ce3ed47b193d0e8c3ba9bbc44f452542e38', '3ad8a10d38d8fb5a1947217c946f7091a12bd53b', 'b4ed2e915b089c7d8d75d129a868212816c73f87', 'ba21d60c0ee0a8fe17c37477f9428b19f69a6ee7', '83188c3328c10898012181b0f430519396f9f184', '9cdfc2f12bb7591afefca28682345667f3bca6e4', '12789b3b67efc997897d019fff50e226357ebbfd', '536b99fac3204bc6667991d6efc1b8e9cbf4680e', 'e3f8995093f0eef5b2d42524ae7a0be636267501', '8e560b427cb35f48ff51b5cc8b9f83672af25b1e', 'f63dd9cbfdb69a6fc1bae4f9722e4c4781a3ddb1', 'df35169cca3926c1deb012edf045d2e161c353f2', 'f6763e5bf2e5ee2e363c1593728aac0e2aa38a10', 'a84a112e35ae2f5ddf7eca7d816a1f2765a9cc02', 'dc17f3b44d24b8ce3de605967f9ed3263c53b6fc', '205a0c66dd63a3e53b03ef4f195b17fe540aa119', '02f4560725c8d330688f0c392789ba2d53654632', '705449d46b99784af9bca24a0fa4abf91695e47e', '3a2e72debb878bdc9abc0938ae4dc5789c20a3b2', 'c58b794a6ce3dc723729f846c63cd4059c157515', '0bc4db4d1c154eb886f2b7093d39551f8db032fe', '32b05b10e8a25ebccb561adaa7033d3eefa8900e', 'ca3929eaabe4b0f59515c775b0dd5436f1ff09d6', '3f8f6107fc8a5ed5770a84baf3bd08c284c97cf0', 'fac8e47cd0cda54f910ab135cc977553717d69a6', '312efc1c3eb41bf1fa1d1e57443f74509fcb222e', '99c592d0064709497b9e18186ee9ccd75e02bdca', 'dea2c7bf2fd8001b6f09f01dff1217ea76a28ac9', '5c4f5bef192bc76cee4c4cbcd44d7ba5a2df5737', '4c9ef5f5ebe80d3f949bdcdb724800a7e33f2268', 'f9eecc6b0326348a943a91d750472d65d14a3c94', '932ad377a3bb70d0d32969f4941f0268d560afc9', '6a1432a23977a6515dcf49092f3424fecce2fd44', '871d004a886a45317e425b5516ba3391b50e2443', '8c9fdb5f1bb4e817ca4fdcbd2a7810fc286064d6', '62b62d87446db8c34cb64c2f3371ab1493ca0271', 'c697d270d46e1ee69569f60265c287b84f65ec80', 'd0f0134594ad065e29e9a236da4c38e7ab7bd3e8', '904fac1e1c7470c1c47bc3d2cd5f95b8dbedcecf', '4eef50154960c5238764dbda04e76df48206ec3b', '04935d7e3f0be93ac79e3d9c088aa1a0af6d9d80', '417862529ebc6866ea0baa9f4a066d7cbfbb4adb', 'bf02313f9b057d4d69124a7c1c4023f44167c065', ... ]"
            ]
          },
          "metadata": {
            "tags": []
          },
          "execution_count": 33
        }
      ]
    },
    {
      "cell_type": "code",
      "metadata": {
        "id": "4aiXLf4RnDzX",
        "colab_type": "code",
        "colab": {
          "base_uri": "https://localhost:8080/",
          "height": 88
        },
        "outputId": "b64eaed8-d09d-40ec-c55a-d8d1546a1807"
      },
      "source": [
        "West['user_id'].unique()"
      ],
      "execution_count": 57,
      "outputs": [
        {
          "output_type": "execute_result",
          "data": {
            "text/plain": [
              "dtype: str\n",
              "Rows: 2522\n",
              "['900ed526660df9c3442ebe736db94eb0bc251b73', '5c604b6fc3d4077dfca40a57eea49388b69a19d6', 'b4c75391d49ce797c1af18468f1aa3ae5943f9de', '18325842a941bc58449ee71d659a08d1c1bd2383', '9685135efd0757150edb8d49e192fbb301e70e94', '71c17371dff96abe86663a7dc83e4334f3e4a67f', '9f78f038854c3ffb9e864ad281a7201d4dd999b2', 'b8474ad076d711b04a8732baab59872e72b487ff', 'd98c7abec08395694f7e469a8780d5cb54c809ba', 'b82c94bab6013453c2a0618f2079dff7c74599f0', '8c1022e54b28810ca20abb601328f1105f025125', '3abef8c80a5c697fcf7da4495bef26899ed13c77', 'c4f5e1f732f7ee646b58045d23643243abb561de', 'a90a12b1d303da46ecb3f77b8efd0d03370a9e86', 'e0c4690cbdd89e8817e7a25bce072b1ddc9618a5', '4c7f3dcad92dcb7e625aeb61e3b79d2fdffccc93', '744c384772ec76b403094d3ee97d2d6e07d3e0c3', 'ac76f1fb38d2c9c27178cccc502c2be2cc5b9acf', '82c458f2e9bc30f87890b408e5b965114989edf4', '37b97745b5649ca367aab9e4999528b470ecc692', 'd6dbb0578fe5baf513cad07fbf07801f89fd9313', '99d724639a1e51f53770236f24c87e2ca9126ec6', '07ca4e60b62326eeef7cff3bd95da257dc96b812', 'd36f8a8106e7f8f1dc111eb5cb5cc9dbe5ae07a9', '58fcc1ee8eb4bff5a9bedff6e7510f0167367c1a', '7a1e5f38af5197ee59857b48ac1eb2854e84a000', '2f03ae415b7efb7c015cdc79fa6166dcf1ddef32', '87fa091833add3a9b90404d4bae5d2cd709f632b', '790839cdd4ee24d5998952c1175848a51ec510a8', 'f34ffb77d1ca071bfa40fcf51fa5b716cd8f4219', 'fc7e6b0ab9b9ecd499369837f29ec8af3aa74489', '2bf4aa323998874797bff1b9a7d4049e38c2e706', 'efa2438cc0dba26b71b88fbf2b4fc27641c9a902', 'd0e43e3058cbd5a55ab57b5d367b154c35650419', 'e843882b389e96078a7b94476d9d1e884bd812e7', 'eb7f101c8b52a56d0e73100f5dbbd609df79c620', '9116c65d75343f5ac19f27b2eb8b1b447855e2ba', 'd6837d433e0f6731840991046ea4db076c1060db', 'ed328acd96a4147df93f64586eb56103ffa26c5e', '5d5e0142e54c3bb7b69f548c2ee55066c90700eb', '55a33f397fe9ef6dde63f140ff47666bc7a9247b', '95e20b2c4f1259ebf5cf4b05cbe9e7f7b9b79f74', '1dd37d51b9998623083f5b276ba8e95fdf72a0d5', 'f1a5555ab79f8a31c8d79112f7be7a84349bf92f', 'ff9de5c42ae7797c4cdcfb04370e77c51c80beef', '382868b3daba2e6924877d39492079944e998b55', 'de94198175aeadef534c4584691817d154cb9d41', 'd08fc0b2e67e4dc36b1b04397420a1cc2af137c0', '8584451eb3d5182afcbf9b5cc19e20e21f7cede2', 'c99946eb35e4afe71c11bc98fb5e5673a121db93', 'bdaba23f8e99fe6766d093d6849783e6316a500c', 'c1329a0da27e6ee4b09e570a71312111d4f0189c', '18142d8258c86a7f92be79afaff23390a4fd527a', 'c6a107ef87bd4fe87e399b5cf1c8d1e9c49f18de', '9ae6728cbd759d2cd5ab4ccbdc1ee0b35331c78b', '086ec1b75b81368a614a2ffb73087e1ce4e5f008', '59cdfbf5b20ad2c01fcc0f91efae59d8cc193be3', '31ba2ce3ed47b193d0e8c3ba9bbc44f452542e38', '3ad8a10d38d8fb5a1947217c946f7091a12bd53b', 'b4ed2e915b089c7d8d75d129a868212816c73f87', 'ba21d60c0ee0a8fe17c37477f9428b19f69a6ee7', '83188c3328c10898012181b0f430519396f9f184', '9cdfc2f12bb7591afefca28682345667f3bca6e4', '12789b3b67efc997897d019fff50e226357ebbfd', '536b99fac3204bc6667991d6efc1b8e9cbf4680e', 'e3f8995093f0eef5b2d42524ae7a0be636267501', '8e560b427cb35f48ff51b5cc8b9f83672af25b1e', 'f63dd9cbfdb69a6fc1bae4f9722e4c4781a3ddb1', 'df35169cca3926c1deb012edf045d2e161c353f2', 'f6763e5bf2e5ee2e363c1593728aac0e2aa38a10', 'a84a112e35ae2f5ddf7eca7d816a1f2765a9cc02', 'dc17f3b44d24b8ce3de605967f9ed3263c53b6fc', '205a0c66dd63a3e53b03ef4f195b17fe540aa119', '02f4560725c8d330688f0c392789ba2d53654632', '705449d46b99784af9bca24a0fa4abf91695e47e', '3a2e72debb878bdc9abc0938ae4dc5789c20a3b2', 'c58b794a6ce3dc723729f846c63cd4059c157515', '0bc4db4d1c154eb886f2b7093d39551f8db032fe', '32b05b10e8a25ebccb561adaa7033d3eefa8900e', 'ca3929eaabe4b0f59515c775b0dd5436f1ff09d6', '3f8f6107fc8a5ed5770a84baf3bd08c284c97cf0', 'fac8e47cd0cda54f910ab135cc977553717d69a6', '312efc1c3eb41bf1fa1d1e57443f74509fcb222e', '99c592d0064709497b9e18186ee9ccd75e02bdca', 'dea2c7bf2fd8001b6f09f01dff1217ea76a28ac9', '5c4f5bef192bc76cee4c4cbcd44d7ba5a2df5737', '4c9ef5f5ebe80d3f949bdcdb724800a7e33f2268', 'f9eecc6b0326348a943a91d750472d65d14a3c94', '932ad377a3bb70d0d32969f4941f0268d560afc9', '6a1432a23977a6515dcf49092f3424fecce2fd44', '871d004a886a45317e425b5516ba3391b50e2443', '8c9fdb5f1bb4e817ca4fdcbd2a7810fc286064d6', '62b62d87446db8c34cb64c2f3371ab1493ca0271', 'c697d270d46e1ee69569f60265c287b84f65ec80', 'd0f0134594ad065e29e9a236da4c38e7ab7bd3e8', '904fac1e1c7470c1c47bc3d2cd5f95b8dbedcecf', '4eef50154960c5238764dbda04e76df48206ec3b', '04935d7e3f0be93ac79e3d9c088aa1a0af6d9d80', '417862529ebc6866ea0baa9f4a066d7cbfbb4adb', 'bf02313f9b057d4d69124a7c1c4023f44167c065', ... ]"
            ]
          },
          "metadata": {
            "tags": []
          },
          "execution_count": 57
        }
      ]
    },
    {
      "cell_type": "code",
      "metadata": {
        "id": "LA2hRzICi1ER",
        "colab_type": "code",
        "colab": {
          "base_uri": "https://localhost:8080/",
          "height": 34
        },
        "outputId": "ba113a1a-b280-4618-9124-2f45005105c4"
      },
      "source": [
        "West['listen_count'].sum()"
      ],
      "execution_count": 37,
      "outputs": [
        {
          "output_type": "execute_result",
          "data": {
            "text/plain": [
              "9992"
            ]
          },
          "metadata": {
            "tags": []
          },
          "execution_count": 37
        }
      ]
    },
    {
      "cell_type": "code",
      "metadata": {
        "id": "gplmVAhth9eS",
        "colab_type": "code",
        "colab": {
          "base_uri": "https://localhost:8080/",
          "height": 88
        },
        "outputId": "ecf37f40-0277-4ffc-b02f-a30c78f2403b"
      },
      "source": [
        "Fighters = song[song['artist']=='Foo Fighters']\n",
        "Fighters['user_id'].unique()"
      ],
      "execution_count": 34,
      "outputs": [
        {
          "output_type": "execute_result",
          "data": {
            "text/plain": [
              "dtype: str\n",
              "Rows: 2055\n",
              "['dc4a6ab83084f5f1c858793fa22f1200d5b6c267', '83b1428917b47a6b130ed471b09033820be78a8c', '5c9f68452a0a591d1fa7987bf2465fa646b99788', 'fc1b68dc9b3f0dd8752dd27cf5abc72993d6f81b', 'd98c7abec08395694f7e469a8780d5cb54c809ba', '4a3a1ae2748f12f7ab921a47d6d79abf82e3e325', '73453446c77ec6d9f01804dd94b4548a1680e828', 'e70c4dd69296c7c57f64feb49a4a2a19bf3f688e', '66515166dc465cb51af511db9f6e708095af31a6', '632af0475de5f2d90838520df96e4b681a383114', '9e47dcebaa4af46b192ff8cc1b5133b1d93fcce5', 'b41053464974bb6df6cabd2dd7a66039f182e9cb', 'd95df4df9d6f25e76f13556ce6cf5b50f979c76c', '2cc3314f90b8a3206a1ff3982d9195244f0504f0', 'd0e43e3058cbd5a55ab57b5d367b154c35650419', '13239e5c03b7cb15ed6a2007920f2e5d36466af2', 'b919f662b26957782fa1ea3543438edf53489ec7', 'cdc56c276751b2f52b19023591f50feb9c5492fb', '8a4dda75f8f820852dccd878ae2f725fd54d947d', 'c8529f95b292bad3a1d6ecaaa36f1d102b24598f', 'ca51216616cf1953ee93db8c54188a1eea1d5e6f', 'dbc6b70d02051fa6925fe7827be3316543c10537', 'f6255ef4f5df81d81ff98f9fde5f19e0b9e28613', 'f9d2599a999d601ad598fe0cb79b41329ba3d42c', '8c88450b68ebcace647cf0b4d25ec023a512c8ee', '822d61e5fe7d8b7b120e1fad28fce06a48db2255', '8ab12a0531093fb7180cbc53cf6466fc913370e9', '19e4bf53bf61f2348a2715ea99d3d0c416a51bf0', 'd2c662dab58b57d6438e664ed7ad411c64791efe', '1e8b32fed770c105c85284eeefdec5b5ec35dc43', '06010bea94826f4b317ed734ef0e320364b7be39', 'd3036a899284146c078dd9a9ae7a275988e66160', '94f1aa677069c65df6336e52d3b1109f40df7355', 'e4f9cfac3c236a5f3680dba4beb094b2c277b6ac', '8c4a88d04a71cafedeffa47b46d3ad44f523c0f4', '4a7a2bb6ceca48ada53f859763ea2aba05f49516', 'd056ed2b72bf6df2fab8392505f4c371bbc600cf', '3317977b0d3a0a4a3ce8b47ae22a75d62bca2a20', 'd6eb3834db466dad7885fcb7068ba3e2da7ebb60', '4df851b2aa631d02e299b79156a12d9581a9ab9f', '76781a987bd206a5a5581f843bd2363225fb4a18', '8e560b427cb35f48ff51b5cc8b9f83672af25b1e', '81f5e4f9d86d4df88750dbf81bc17addc6ef3c4e', '1f1db21105cbc879e195577db88acf044fc4deb6', 'd7cff075521649636b455da7cb259d2aee8416dc', 'e8b9604867cabe7ec34ee7db9bee54d93f3158c3', 'c3c1f32554541b5263e4c0801fc81075365f1916', '96a95de817bacaa7dce891d978500b222e12de9e', '763db23a8347f8103a8c99905b34fe24f85704ca', '18fd5364b431023cd1d6e469dc11140688106a21', '5f48e02d2c39c14ea6c3efdf832f9e091ec7009e', '4d784ec57dd616b92f6ac856c196951fc2226157', 'bd51142252349f35b2f2b0545065249936552a2a', 'd9cc3601c05102e33fc41ee319ee7ccf7bbb3fb8', '1d5425537c3e95af824d6ab174cc07daff6b030b', 'df085609a2ae4c23d92476548bf12fa29afd7774', '40d803e96c3852afb0d2d741b3737f714b4d79fe', '771e13e5f01cd1fe1024f97e735d34f18a0bda67', 'd188dfd446f57e544477e84f336e9633c0c4f5e0', '5a5e6993f2b2002209ecabf1162ee241aa4b73f6', '8fc5e2933511644954707d474eb0e3ca50bc902f', '78fc4c761dd20d9fc9f16826a2062829b89b5e0d', '20eb4e86128ba1b24748c42275356dc7e4806ac1', 'b78eda8b0ac71008ae2c4bdfbd1a8dd6b98d1410', '97c86e154dd5f98f6250c2de18e6f431b3a00def', '932ad377a3bb70d0d32969f4941f0268d560afc9', '82d4e28ae90ad0adbd1bfe6bb80e661aef088169', 'dfb5b9ac32dec9feeb1f846aa3a9dd2c547ee9a2', 'd45acd9ba011e8e88fcc922cb5fe5786746c6885', '595f872a132675e6e9940f37429367472c5b9161', '037a544789425070598d8de42f06fc7dd3f49bd9', '5e161b9e14f303a0cef2d3f44d07dd946549f89f', '3887c145fb91a26b3ce9c80903231539411c601e', '3212cbd1512b015d4ac30a07f8a1c0512a1c49b0', '9954c0a333df0a5cca17e81781f35155a1f3d298', '11a6b843c5161507f323fd574f0c0fe953d09fe5', 'a201e7bf3edaa5ab837c3725b91beba0b93c65c8', '6c4b89b09b634ff6dbb13f616d20c9f908c1ccec', 'e85bb213da0624269a1356bcb004fc87a9a92229', '46e4998584dc59acb5be224f3c9c481ec6c6283e', '0684a2f3b2700f128f268bc1d2ff460cfb096f20', '2bfb4e41fa919e0313c63ee16a7acfb38082040f', '399f1a0ce21480605587ebdc926346a97b9db5a3', 'bc908051af3f5aa5ee07b341e10edced8b8d4d09', 'cb0934c10663ed3f4a13c8e4fcd4bc08ea08c0aa', '32c46af3c6934225f4b4bc29c5ed1fd4acdfbc6e', 'dcaca21546352fc3eba998f9139a45505ec2733d', '15db9928831a6f3206918dec0f63c7e4a077eb63', 'ead6a62fc06ab22a9e2dcb3a8e254903967238a1', '61d0aafa1ff01dbca287e7fc92f2e0ceefa3e3bf', '43ccaa2106bbca57992ec9d89f05c2a022ecbcf3', 'b247831747088e8e8d672923ee5b16373dcd38e1', 'aee02d259133c391eb2e5599bd4259d99a0a58b9', '1f89725bd2030370acabe0872a8871cda7b16e82', '056d2cef8d222940468c84af9dded7c2ff5f6813', 'a0fe44e63d4540aecf068fe94ac8c102b5b84d38', '24c414e42be7976e3900fd26662d60b5acc424b3', '71f7020c5ab450ea0be0e2ad28199e61e0428d39', '1dbe96766e39e2297c1d4d92318825c61efce164', '920fb1c1cfddc1b2d3a95cbcd12a1d219b02eaa8', ... ]"
            ]
          },
          "metadata": {
            "tags": []
          },
          "execution_count": 34
        }
      ]
    },
    {
      "cell_type": "code",
      "metadata": {
        "id": "APzniFihnAzu",
        "colab_type": "code",
        "colab": {
          "base_uri": "https://localhost:8080/",
          "height": 88
        },
        "outputId": "10639928-3d65-407e-ed4b-96e5538335ab"
      },
      "source": [
        "Fighters['user_id'].unique()"
      ],
      "execution_count": 58,
      "outputs": [
        {
          "output_type": "execute_result",
          "data": {
            "text/plain": [
              "dtype: str\n",
              "Rows: 2055\n",
              "['dc4a6ab83084f5f1c858793fa22f1200d5b6c267', '83b1428917b47a6b130ed471b09033820be78a8c', '5c9f68452a0a591d1fa7987bf2465fa646b99788', 'fc1b68dc9b3f0dd8752dd27cf5abc72993d6f81b', 'd98c7abec08395694f7e469a8780d5cb54c809ba', '4a3a1ae2748f12f7ab921a47d6d79abf82e3e325', '73453446c77ec6d9f01804dd94b4548a1680e828', 'e70c4dd69296c7c57f64feb49a4a2a19bf3f688e', '66515166dc465cb51af511db9f6e708095af31a6', '632af0475de5f2d90838520df96e4b681a383114', '9e47dcebaa4af46b192ff8cc1b5133b1d93fcce5', 'b41053464974bb6df6cabd2dd7a66039f182e9cb', 'd95df4df9d6f25e76f13556ce6cf5b50f979c76c', '2cc3314f90b8a3206a1ff3982d9195244f0504f0', 'd0e43e3058cbd5a55ab57b5d367b154c35650419', '13239e5c03b7cb15ed6a2007920f2e5d36466af2', 'b919f662b26957782fa1ea3543438edf53489ec7', 'cdc56c276751b2f52b19023591f50feb9c5492fb', '8a4dda75f8f820852dccd878ae2f725fd54d947d', 'c8529f95b292bad3a1d6ecaaa36f1d102b24598f', 'ca51216616cf1953ee93db8c54188a1eea1d5e6f', 'dbc6b70d02051fa6925fe7827be3316543c10537', 'f6255ef4f5df81d81ff98f9fde5f19e0b9e28613', 'f9d2599a999d601ad598fe0cb79b41329ba3d42c', '8c88450b68ebcace647cf0b4d25ec023a512c8ee', '822d61e5fe7d8b7b120e1fad28fce06a48db2255', '8ab12a0531093fb7180cbc53cf6466fc913370e9', '19e4bf53bf61f2348a2715ea99d3d0c416a51bf0', 'd2c662dab58b57d6438e664ed7ad411c64791efe', '1e8b32fed770c105c85284eeefdec5b5ec35dc43', '06010bea94826f4b317ed734ef0e320364b7be39', 'd3036a899284146c078dd9a9ae7a275988e66160', '94f1aa677069c65df6336e52d3b1109f40df7355', 'e4f9cfac3c236a5f3680dba4beb094b2c277b6ac', '8c4a88d04a71cafedeffa47b46d3ad44f523c0f4', '4a7a2bb6ceca48ada53f859763ea2aba05f49516', 'd056ed2b72bf6df2fab8392505f4c371bbc600cf', '3317977b0d3a0a4a3ce8b47ae22a75d62bca2a20', 'd6eb3834db466dad7885fcb7068ba3e2da7ebb60', '4df851b2aa631d02e299b79156a12d9581a9ab9f', '76781a987bd206a5a5581f843bd2363225fb4a18', '8e560b427cb35f48ff51b5cc8b9f83672af25b1e', '81f5e4f9d86d4df88750dbf81bc17addc6ef3c4e', '1f1db21105cbc879e195577db88acf044fc4deb6', 'd7cff075521649636b455da7cb259d2aee8416dc', 'e8b9604867cabe7ec34ee7db9bee54d93f3158c3', 'c3c1f32554541b5263e4c0801fc81075365f1916', '96a95de817bacaa7dce891d978500b222e12de9e', '763db23a8347f8103a8c99905b34fe24f85704ca', '18fd5364b431023cd1d6e469dc11140688106a21', '5f48e02d2c39c14ea6c3efdf832f9e091ec7009e', '4d784ec57dd616b92f6ac856c196951fc2226157', 'bd51142252349f35b2f2b0545065249936552a2a', 'd9cc3601c05102e33fc41ee319ee7ccf7bbb3fb8', '1d5425537c3e95af824d6ab174cc07daff6b030b', 'df085609a2ae4c23d92476548bf12fa29afd7774', '40d803e96c3852afb0d2d741b3737f714b4d79fe', '771e13e5f01cd1fe1024f97e735d34f18a0bda67', 'd188dfd446f57e544477e84f336e9633c0c4f5e0', '5a5e6993f2b2002209ecabf1162ee241aa4b73f6', '8fc5e2933511644954707d474eb0e3ca50bc902f', '78fc4c761dd20d9fc9f16826a2062829b89b5e0d', '20eb4e86128ba1b24748c42275356dc7e4806ac1', 'b78eda8b0ac71008ae2c4bdfbd1a8dd6b98d1410', '97c86e154dd5f98f6250c2de18e6f431b3a00def', '932ad377a3bb70d0d32969f4941f0268d560afc9', '82d4e28ae90ad0adbd1bfe6bb80e661aef088169', 'dfb5b9ac32dec9feeb1f846aa3a9dd2c547ee9a2', 'd45acd9ba011e8e88fcc922cb5fe5786746c6885', '595f872a132675e6e9940f37429367472c5b9161', '037a544789425070598d8de42f06fc7dd3f49bd9', '5e161b9e14f303a0cef2d3f44d07dd946549f89f', '3887c145fb91a26b3ce9c80903231539411c601e', '3212cbd1512b015d4ac30a07f8a1c0512a1c49b0', '9954c0a333df0a5cca17e81781f35155a1f3d298', '11a6b843c5161507f323fd574f0c0fe953d09fe5', 'a201e7bf3edaa5ab837c3725b91beba0b93c65c8', '6c4b89b09b634ff6dbb13f616d20c9f908c1ccec', 'e85bb213da0624269a1356bcb004fc87a9a92229', '46e4998584dc59acb5be224f3c9c481ec6c6283e', '0684a2f3b2700f128f268bc1d2ff460cfb096f20', '2bfb4e41fa919e0313c63ee16a7acfb38082040f', '399f1a0ce21480605587ebdc926346a97b9db5a3', 'bc908051af3f5aa5ee07b341e10edced8b8d4d09', 'cb0934c10663ed3f4a13c8e4fcd4bc08ea08c0aa', '32c46af3c6934225f4b4bc29c5ed1fd4acdfbc6e', 'dcaca21546352fc3eba998f9139a45505ec2733d', '15db9928831a6f3206918dec0f63c7e4a077eb63', 'ead6a62fc06ab22a9e2dcb3a8e254903967238a1', '61d0aafa1ff01dbca287e7fc92f2e0ceefa3e3bf', '43ccaa2106bbca57992ec9d89f05c2a022ecbcf3', 'b247831747088e8e8d672923ee5b16373dcd38e1', 'aee02d259133c391eb2e5599bd4259d99a0a58b9', '1f89725bd2030370acabe0872a8871cda7b16e82', '056d2cef8d222940468c84af9dded7c2ff5f6813', 'a0fe44e63d4540aecf068fe94ac8c102b5b84d38', '24c414e42be7976e3900fd26662d60b5acc424b3', '71f7020c5ab450ea0be0e2ad28199e61e0428d39', '1dbe96766e39e2297c1d4d92318825c61efce164', '920fb1c1cfddc1b2d3a95cbcd12a1d219b02eaa8', ... ]"
            ]
          },
          "metadata": {
            "tags": []
          },
          "execution_count": 58
        }
      ]
    },
    {
      "cell_type": "code",
      "metadata": {
        "id": "K9X_SO0JjEHJ",
        "colab_type": "code",
        "colab": {
          "base_uri": "https://localhost:8080/",
          "height": 34
        },
        "outputId": "579a63d6-4e2c-468e-98bb-95b3640bb3b4"
      },
      "source": [
        "Fighters['listen_count'].sum()"
      ],
      "execution_count": 38,
      "outputs": [
        {
          "output_type": "execute_result",
          "data": {
            "text/plain": [
              "9504"
            ]
          },
          "metadata": {
            "tags": []
          },
          "execution_count": 38
        }
      ]
    },
    {
      "cell_type": "code",
      "metadata": {
        "id": "RReabax5iVSS",
        "colab_type": "code",
        "colab": {
          "base_uri": "https://localhost:8080/",
          "height": 88
        },
        "outputId": "c7798fa0-af4b-4c11-8f88-f3e31643f2b1"
      },
      "source": [
        "Swift = song[song['artist']=='Taylor Swift']\n",
        "Swift['user_id'].unique()"
      ],
      "execution_count": 35,
      "outputs": [
        {
          "output_type": "execute_result",
          "data": {
            "text/plain": [
              "dtype: str\n",
              "Rows: 3246\n",
              "['02f015d32ac2cd1e52d26e3ec36048711dd5711b', '968f1baebc490d3c6999ee6c85c5cab8b726b347', '8a8eb87dc4de1a671451e4f6745739c77b97c202', '360b4499ebb6a98afbcfe95377ff8709eb95faac', 'b8474ad076d711b04a8732baab59872e72b487ff', 'd99ead40aad574d76c8c1121d0a0b3420987ab2a', '62c4bf887b7b1e5cf6ab62723481099c7f98377e', 'e0039fa2e1d0c51c729d2521a48eccc52a375cc2', 'b7b5408ba99a68a4d8d9df6007e8516a8fabb43f', '92337c69d4ff1c13f5c9ad4e9c62a0654be9d230', 'e8813fe73c90d69b4f744251c68fce896ec2aede', '73b81196e7429ef73636704acf70fa5cb22e0294', 'a558facade7c856f056b13692c348ad22c624633', 'affe67dcd8452def0784688df632cbf53b4c66c6', 'b82c94bab6013453c2a0618f2079dff7c74599f0', '7906b560bae5f8b3eb5d7f78ae65dbe94f248f4d', '8b46ff34ca4e56f7332775f14eab898eeb23294f', '02a898aab6609c477535af8a92036687d17b75c7', 'd6dbb0578fe5baf513cad07fbf07801f89fd9313', '5d55e0bebd46ac419e4e0fbacfee57602fe8cc1f', '08698dcb702ef3b79c57ab3027e6e3db8a6df526', '1c765481d4103de594ce8292b199cf7ce5aaf696', '56dd181814f67cac489d51c5828f2905c165db47', '9232eeaa942af2ff3f3e2b90f996d3ad003e4b31', '13728a9bd30a2aa451a849173ac7609417b0b563', '41787ce6600a8dd9579377ae90e21bec3b65a09a', '88c4a09085538ff1d25405ea2bcf97cad800af3b', 'e7f52e05379405efb9f37186d344f01648237a16', 'd0e43e3058cbd5a55ab57b5d367b154c35650419', 'b3bda43148fb16602e0839344c7e4ae82277b68c', '6a37f8118af2f2ac3a9acf220fc3d5c5bd20b084', 'b6c6617585b3b80edb02c5df9b161bb28000478a', '9fd616a80b94d0b0f4b1dd438eae250e6fab9bfb', '5d5e0142e54c3bb7b69f548c2ee55066c90700eb', '9c9fa2abc2ede71089c682f06ec9626c3e6cfa04', '56df8017a3210df0806714dd7ca43755b33b27a1', 'e7efda75b906b247d4c78d957cde9fe2998b2361', '1d78cca2d2fa9c19bc9f73e721136fbebb2d8ed5', '34ab060bf8ef3c3708ef66c60b5e025f5c6d083c', '91ab0be9a4d9c9ef3e38f7c9b21507d672c7bf11', '4d7b263e00678587c92a381904862c258c995f3a', '0427a32b3c7cee90eadbeb0a11349bb5c7ab286e', '8ab12a0531093fb7180cbc53cf6466fc913370e9', '0a20576ead7f1849c267027ad27a8b68c267e1f9', '9e02b9e44467fbe8fdca3c5724cba7cb34d55a1b', '06010bea94826f4b317ed734ef0e320364b7be39', 'bbbdbcecf3130d9975abae71581e362a100bde2f', '0998c6d0bc4a7ae29bd2835f36c8d38bb8245dab', 'bdaba23f8e99fe6766d093d6849783e6316a500c', '5fcc6dc3f10c59c285e7be96a93ccf78aec78200', '645a71077552e42572a9472eb41ec1f5d192e7b3', '9b8ca75bf3eafca09c69ad0f0c38bfe0cbab387b', '6e1807de2afc4221553409949926f23e36e9a4e8', 'a528763f37c5ba598fa746f04743efe5e4ea2c1c', '4a7a2bb6ceca48ada53f859763ea2aba05f49516', '87c3ca32d1f6d7ccd66a1288b4ecc60b74983867', '72354c0af6c478b61283a996a27d18e70a5d01ce', '518f5f43429304c11668623bb73655e8a97e95a5', '55d23329a89210beb789b6026e5bacef5f9cca69', '9a660cd0e498aeb08cd6d8b62cddcc6762c541c6', '5f8c1c9447fd95b9c273c55807a92dbd5e128aff', '379c45229de17fb596a3007580591b90642d4433', 'd997c7db3862f5ddb87ccd87ea3670d8700618d4', '05f226ee64b3233ce188010025e23464f780d821', '523dbe38910336a4d523f58a408d43f3576bd7e9', 'c8504ae53bce0a990140eaead1e5289efb1515f8', '28156cb1d0b71b06742ab821a8b88bef72965c82', '2dae5fcf510b95c20ea9ce2ebb7fde8e27768cbf', 'd87c106bda1f0df2a3e52cdc5c8aa37e30d58e58', 'b8a378e53e8510ca8bde97a68ce3874417505e7d', '365995a61187c26a3fe83ff4babcb24393b0376f', '210f3a581078971a7b4ae481ab8411a4f7837cee', '85650cebb4809c45f2c8ea4a875b25f74eb379d9', 'ce437bd511ae1fb47cac33c55818395657eaa1cc', '6ead9d97aa5d2278b51e9cd142be52191379435b', '76ae586b0c3c581d1f6cd86f43d39d57fcc0691f', 'c9a6232343943de241f9601eeb175edaa838ea77', 'de45b20f74ba24e55e0945ad698823b2f2582da0', '1039dae804ff0a96f689b2c2961d390aa13914cf', '2510038527855bd611844cce31164f71c42ce3ad', '708ae260f8ec276eae688a3f07d1eb0557d3c75b', '44a1668fd941e14bb1dffbe94248b680a97f87e2', '1f1db21105cbc879e195577db88acf044fc4deb6', '4a4709290b5d7e0b0bda6c70e6ee7e229be463ba', 'd32d9337c6672ee56a7d22f0cbc8e7e979af6350', '2c65722c771aac12213af740b9c0ce19f897913f', 'f71e12a27b574a83118b3fb9e4aaa09563cba738', 'cb33272c3010321cead6db6ac24ff33922365a3a', '86142ff8d467861bc66da4b32578b1206cb4ea32', 'ced33ee66eac5185e552941a0d987142f8ea8485', '4b31445a10173690532ce8a4b0fa5c7b30ccdb98', '461aca64a5aa057a68b6ca6421180b7b6a8a8638', '6de6e21c98a5206aa9a057c4bebb0ad925b91a94', '7c81e7e7d4348e03a594734108a2889a825ac704', '82dd101e9644cd0fd344428fa445db31c3479f24', 'b43ba8479f37d7763985249021553a465009bbad', '164da3325d23aa05f9f37273db4393440e771a6c', '29efb1235caf082c40392fa016e2d94ed834ca26', '10e312bfa5ab4dbd9c290776309ef65cd8e646d4', 'e4f0bcd8e3c158d4e57b5921bb1bf3dd4c6d8474', ... ]"
            ]
          },
          "metadata": {
            "tags": []
          },
          "execution_count": 35
        }
      ]
    },
    {
      "cell_type": "code",
      "metadata": {
        "id": "vVGloe4Wm4UU",
        "colab_type": "code",
        "colab": {
          "base_uri": "https://localhost:8080/",
          "height": 88
        },
        "outputId": "877883de-6b74-45d0-e1b7-ea3979900ff6"
      },
      "source": [
        "Swift['user_id'].unique()"
      ],
      "execution_count": 56,
      "outputs": [
        {
          "output_type": "execute_result",
          "data": {
            "text/plain": [
              "dtype: str\n",
              "Rows: 3246\n",
              "['02f015d32ac2cd1e52d26e3ec36048711dd5711b', '968f1baebc490d3c6999ee6c85c5cab8b726b347', '8a8eb87dc4de1a671451e4f6745739c77b97c202', '360b4499ebb6a98afbcfe95377ff8709eb95faac', 'b8474ad076d711b04a8732baab59872e72b487ff', 'd99ead40aad574d76c8c1121d0a0b3420987ab2a', '62c4bf887b7b1e5cf6ab62723481099c7f98377e', 'e0039fa2e1d0c51c729d2521a48eccc52a375cc2', 'b7b5408ba99a68a4d8d9df6007e8516a8fabb43f', '92337c69d4ff1c13f5c9ad4e9c62a0654be9d230', 'e8813fe73c90d69b4f744251c68fce896ec2aede', '73b81196e7429ef73636704acf70fa5cb22e0294', 'a558facade7c856f056b13692c348ad22c624633', 'affe67dcd8452def0784688df632cbf53b4c66c6', 'b82c94bab6013453c2a0618f2079dff7c74599f0', '7906b560bae5f8b3eb5d7f78ae65dbe94f248f4d', '8b46ff34ca4e56f7332775f14eab898eeb23294f', '02a898aab6609c477535af8a92036687d17b75c7', 'd6dbb0578fe5baf513cad07fbf07801f89fd9313', '5d55e0bebd46ac419e4e0fbacfee57602fe8cc1f', '08698dcb702ef3b79c57ab3027e6e3db8a6df526', '1c765481d4103de594ce8292b199cf7ce5aaf696', '56dd181814f67cac489d51c5828f2905c165db47', '9232eeaa942af2ff3f3e2b90f996d3ad003e4b31', '13728a9bd30a2aa451a849173ac7609417b0b563', '41787ce6600a8dd9579377ae90e21bec3b65a09a', '88c4a09085538ff1d25405ea2bcf97cad800af3b', 'e7f52e05379405efb9f37186d344f01648237a16', 'd0e43e3058cbd5a55ab57b5d367b154c35650419', 'b3bda43148fb16602e0839344c7e4ae82277b68c', '6a37f8118af2f2ac3a9acf220fc3d5c5bd20b084', 'b6c6617585b3b80edb02c5df9b161bb28000478a', '9fd616a80b94d0b0f4b1dd438eae250e6fab9bfb', '5d5e0142e54c3bb7b69f548c2ee55066c90700eb', '9c9fa2abc2ede71089c682f06ec9626c3e6cfa04', '56df8017a3210df0806714dd7ca43755b33b27a1', 'e7efda75b906b247d4c78d957cde9fe2998b2361', '1d78cca2d2fa9c19bc9f73e721136fbebb2d8ed5', '34ab060bf8ef3c3708ef66c60b5e025f5c6d083c', '91ab0be9a4d9c9ef3e38f7c9b21507d672c7bf11', '4d7b263e00678587c92a381904862c258c995f3a', '0427a32b3c7cee90eadbeb0a11349bb5c7ab286e', '8ab12a0531093fb7180cbc53cf6466fc913370e9', '0a20576ead7f1849c267027ad27a8b68c267e1f9', '9e02b9e44467fbe8fdca3c5724cba7cb34d55a1b', '06010bea94826f4b317ed734ef0e320364b7be39', 'bbbdbcecf3130d9975abae71581e362a100bde2f', '0998c6d0bc4a7ae29bd2835f36c8d38bb8245dab', 'bdaba23f8e99fe6766d093d6849783e6316a500c', '5fcc6dc3f10c59c285e7be96a93ccf78aec78200', '645a71077552e42572a9472eb41ec1f5d192e7b3', '9b8ca75bf3eafca09c69ad0f0c38bfe0cbab387b', '6e1807de2afc4221553409949926f23e36e9a4e8', 'a528763f37c5ba598fa746f04743efe5e4ea2c1c', '4a7a2bb6ceca48ada53f859763ea2aba05f49516', '87c3ca32d1f6d7ccd66a1288b4ecc60b74983867', '72354c0af6c478b61283a996a27d18e70a5d01ce', '518f5f43429304c11668623bb73655e8a97e95a5', '55d23329a89210beb789b6026e5bacef5f9cca69', '9a660cd0e498aeb08cd6d8b62cddcc6762c541c6', '5f8c1c9447fd95b9c273c55807a92dbd5e128aff', '379c45229de17fb596a3007580591b90642d4433', 'd997c7db3862f5ddb87ccd87ea3670d8700618d4', '05f226ee64b3233ce188010025e23464f780d821', '523dbe38910336a4d523f58a408d43f3576bd7e9', 'c8504ae53bce0a990140eaead1e5289efb1515f8', '28156cb1d0b71b06742ab821a8b88bef72965c82', '2dae5fcf510b95c20ea9ce2ebb7fde8e27768cbf', 'd87c106bda1f0df2a3e52cdc5c8aa37e30d58e58', 'b8a378e53e8510ca8bde97a68ce3874417505e7d', '365995a61187c26a3fe83ff4babcb24393b0376f', '210f3a581078971a7b4ae481ab8411a4f7837cee', '85650cebb4809c45f2c8ea4a875b25f74eb379d9', 'ce437bd511ae1fb47cac33c55818395657eaa1cc', '6ead9d97aa5d2278b51e9cd142be52191379435b', '76ae586b0c3c581d1f6cd86f43d39d57fcc0691f', 'c9a6232343943de241f9601eeb175edaa838ea77', 'de45b20f74ba24e55e0945ad698823b2f2582da0', '1039dae804ff0a96f689b2c2961d390aa13914cf', '2510038527855bd611844cce31164f71c42ce3ad', '708ae260f8ec276eae688a3f07d1eb0557d3c75b', '44a1668fd941e14bb1dffbe94248b680a97f87e2', '1f1db21105cbc879e195577db88acf044fc4deb6', '4a4709290b5d7e0b0bda6c70e6ee7e229be463ba', 'd32d9337c6672ee56a7d22f0cbc8e7e979af6350', '2c65722c771aac12213af740b9c0ce19f897913f', 'f71e12a27b574a83118b3fb9e4aaa09563cba738', 'cb33272c3010321cead6db6ac24ff33922365a3a', '86142ff8d467861bc66da4b32578b1206cb4ea32', 'ced33ee66eac5185e552941a0d987142f8ea8485', '4b31445a10173690532ce8a4b0fa5c7b30ccdb98', '461aca64a5aa057a68b6ca6421180b7b6a8a8638', '6de6e21c98a5206aa9a057c4bebb0ad925b91a94', '7c81e7e7d4348e03a594734108a2889a825ac704', '82dd101e9644cd0fd344428fa445db31c3479f24', 'b43ba8479f37d7763985249021553a465009bbad', '164da3325d23aa05f9f37273db4393440e771a6c', '29efb1235caf082c40392fa016e2d94ed834ca26', '10e312bfa5ab4dbd9c290776309ef65cd8e646d4', 'e4f0bcd8e3c158d4e57b5921bb1bf3dd4c6d8474', ... ]"
            ]
          },
          "metadata": {
            "tags": []
          },
          "execution_count": 56
        }
      ]
    },
    {
      "cell_type": "code",
      "metadata": {
        "id": "-qzfxhU3jI_w",
        "colab_type": "code",
        "colab": {
          "base_uri": "https://localhost:8080/",
          "height": 34
        },
        "outputId": "2899127d-32bf-45d8-8734-faca6515dbc3"
      },
      "source": [
        "Swift['listen_count'].sum()"
      ],
      "execution_count": 39,
      "outputs": [
        {
          "output_type": "execute_result",
          "data": {
            "text/plain": [
              "19376"
            ]
          },
          "metadata": {
            "tags": []
          },
          "execution_count": 39
        }
      ]
    },
    {
      "cell_type": "code",
      "metadata": {
        "id": "eIyVxCY5idYC",
        "colab_type": "code",
        "colab": {
          "base_uri": "https://localhost:8080/",
          "height": 88
        },
        "outputId": "aa7bbd87-1376-445e-8ed1-cce1743fab5b"
      },
      "source": [
        "GaGa = song[song['artist']=='Lady GaGa']\n",
        "GaGa['user_id'].unique()"
      ],
      "execution_count": 36,
      "outputs": [
        {
          "output_type": "execute_result",
          "data": {
            "text/plain": [
              "dtype: str\n",
              "Rows: 2928\n",
              "['0ecb1f480ebb237dc7821c898c94219cdfe38789', '7ad06615d118067e1bf973aa86c672874e0eb78f', 'b2b08a84654f90585e0dc3c5155d330fb8e4ba59', '360b4499ebb6a98afbcfe95377ff8709eb95faac', '2e9cbd200d67910aeb97b36efe9cd4341cc06030', 'fe85b96ba1983219b296f6b4869dd29eb2b72ff9', 'b0a570c42ba00edff4804f5d63916021ecfbd23c', 'e132e16e64f99edc3a674f823ce241da8dfbda21', '6b17deda6a5e5f22005e3aebc007e74c2574c7df', 'e8813fe73c90d69b4f744251c68fce896ec2aede', '090e635812d596bd980db8abc8226413441d8144', 'e70c4dd69296c7c57f64feb49a4a2a19bf3f688e', '38b77950a0d776effcdd6a7c101cc4d008059885', '4a6c404b2726ea68403d998be9c5118a0e91ca72', '3cea6c2878acf2f2996f98424d7f656adfaa2f6a', '7906b560bae5f8b3eb5d7f78ae65dbe94f248f4d', 'de5b7f935683035a6cde7f5886254fd293a73869', '531bbf65b9fd21d4e56d837def9399f304691207', '181d9c254ff957a396b8bbcec10228f84cfa5c2c', 'ad3e5d8acd955dd709794043e7ae02a85df12d65', 'efad1bd178aa3996d6fd40412ca0e5af4794e983', '3a829c9fa2a7b69f4067260200d35cc1af84020d', '5c4632b90bed9b1c69573f1de1c8d6dee1eb8d0c', '9232eeaa942af2ff3f3e2b90f996d3ad003e4b31', '48315fdbceba830680c924d8806cff317c6798c6', '5264bce396b58ba18b13fa8bc692b9e13095b238', '2ef5361054d5f4da80de8d59e767096cfe1d4e0e', 'a57d0e93327e03ba4f39cfdd633dbcb2b4f526f6', 'b3bda43148fb16602e0839344c7e4ae82277b68c', '4efd7650a476a016e4a65b0df7e640f239032b3c', '6a37f8118af2f2ac3a9acf220fc3d5c5bd20b084', '427f79a4116066653aa6959974f8a5986c2a8459', '9fd616a80b94d0b0f4b1dd438eae250e6fab9bfb', '21061b3af26cd9d0ac1c43cc9bc22d7416ff65f4', '358382780371437a861b90ff4f33022b30615b58', 'e4006c24d8a66fe85e825f8d4b0a9078be1b9204', 'fa34b04be0338811ccaae543e0ea5f7f2573f23d', '64db7e5580fb973cbcd9eca0532bd23f746c308a', '4d7b263e00678587c92a381904862c258c995f3a', 'db66a2159e681457517e5e7ddec88e89f8bdf934', '3a472c895a3ee2d99a2bffe10769235131de5bce', '8ff780d7f6c9e406e85603ecd804f8de42f0efc7', '751d4245454f7d7600ddbb355e6e5212af2f1ddd', '7717fe4c7c003887cce5a09d6eb1d8e739ac5d62', '90182c2fff16adc1d0ef229f39ff963cf37a6615', 'dbefed38a75a3f73e79262227c531a07e8c1c75c', '15596405a3b22023bbd3965cc6329cdae8e475b1', '9b8ca75bf3eafca09c69ad0f0c38bfe0cbab387b', '57be59aea99414a297899a04fb469f7b46592fc4', '4a7a2bb6ceca48ada53f859763ea2aba05f49516', '587d72d47d50a6940a78ff3fcd91caf8d4054c6a', '09b99937f1b90425c490321ec3027251eccfac3d', '05f226ee64b3233ce188010025e23464f780d821', 'd2f6e3542854934ecb56c3083f6a74c2b259d367', '0f0182cafb8d8d3c4c384aedb1a0d316c602ed7d', '2f46eb8ef4cfe8ed86c869e393ea5ce0eaaee461', 'd1b75f8014af0ba7e22bc1e95a28d6be19003886', '84c6475a73261c4a1db1d16f3ad80af1a0256f92', 'e8fc7111df017488a7c6630dc0bab52931cab644', '3fbc5e73ac917bf857102bd4e8b26983a7881035', '6cde3794dd8b2862015d850127be9bc60f1b3c31', '33fe674851b6a7a1f03e5bada3c200116ece3943', '12789b3b67efc997897d019fff50e226357ebbfd', 'fccefe057c1fe8571277ce99bc4746cd71eb5147', 'b12e25ca77f4d6d24a3cc43b5d68744c3b4a8e2c', '1d7b9780e492c062c739517c89e794985c7cf4bb', '1039dae804ff0a96f689b2c2961d390aa13914cf', '6cb2acdc7878bb390f470a5affb706fc821829fd', '0ef3fc780b2d3e3d95668a1d7d649b38c7c8e6c4', '286d0e09b1e974dc664d6f701bf3f8eda09a1ad6', '8fe2ebdb95db4564544947cb16d442bea81554ac', '1a8e700876bdab8669019bee20d193103f76ab92', '120b2dc2699659ae3b708a613abc3d7ecb5326e2', '410787892d06c77fe0d5afd8b3b00dc874a11091', '355429a240c40b288d8b9c48e2849c5f67303dab', '6a76f7237d1e4988bf23ed184c10b7a9d2f96974', '1a23569da6434614c5a2aa14ef67fcf4c07d17b7', '8f3bf00c389715e5a350848cab74ea71f3855eb3', 'd9cc3601c05102e33fc41ee319ee7ccf7bbb3fb8', '0125127617030cb2793e6944075d99046123c37e', 'd0e60617ed4a08b97e17bf7204c1ab666551e50e', '13716875b4aa5052b2cf87a3e1275db249bf798a', '1bd140b16562bf0c720fefe784470dd0f72370d3', 'b6c4164b5b7764e86c695dfa5895ee063c236943', '5a5302263531077e0d4c07217ad4741278f13ce3', '148a5727b25b2b1703668e2b03f4df88225f166d', 'af1227fa8640d0155e12ce87de8279050407ee93', 'dea2c7bf2fd8001b6f09f01dff1217ea76a28ac9', '7c81e7e7d4348e03a594734108a2889a825ac704', 'd7e65e4295729ceafe349b056d743038ce2bf7e4', '298c645a8d538157b09dbb3669b50c42ba36075f', '29efb1235caf082c40392fa016e2d94ed834ca26', '686c886260ae27f539ee9c4d38b9d5800afa7ede', '6a1432a23977a6515dcf49092f3424fecce2fd44', '514033d39196cbe7ad55004ac3acc589c604335f', '91cc1993adadcc66d133c1f57e4a4a0131612c8c', 'ac6836ccde6a2cbf6ed80d319a191a0776da235b', 'a84c816dae73862b28b8df29829e1418788fa97c', '8c907427d706aab41a79dd1d8e898fcc2f4c41e9', '983090cc71f8f386c18694d36ad1ff4480aaba20', ... ]"
            ]
          },
          "metadata": {
            "tags": []
          },
          "execution_count": 36
        }
      ]
    },
    {
      "cell_type": "code",
      "metadata": {
        "id": "mQeVkm1ynL61",
        "colab_type": "code",
        "colab": {
          "base_uri": "https://localhost:8080/",
          "height": 88
        },
        "outputId": "3d997091-2046-4388-9feb-bb168f06db19"
      },
      "source": [
        "GaGa['user_id'].unique()"
      ],
      "execution_count": 59,
      "outputs": [
        {
          "output_type": "execute_result",
          "data": {
            "text/plain": [
              "dtype: str\n",
              "Rows: 2928\n",
              "['0ecb1f480ebb237dc7821c898c94219cdfe38789', '7ad06615d118067e1bf973aa86c672874e0eb78f', 'b2b08a84654f90585e0dc3c5155d330fb8e4ba59', '360b4499ebb6a98afbcfe95377ff8709eb95faac', '2e9cbd200d67910aeb97b36efe9cd4341cc06030', 'fe85b96ba1983219b296f6b4869dd29eb2b72ff9', 'b0a570c42ba00edff4804f5d63916021ecfbd23c', 'e132e16e64f99edc3a674f823ce241da8dfbda21', '6b17deda6a5e5f22005e3aebc007e74c2574c7df', 'e8813fe73c90d69b4f744251c68fce896ec2aede', '090e635812d596bd980db8abc8226413441d8144', 'e70c4dd69296c7c57f64feb49a4a2a19bf3f688e', '38b77950a0d776effcdd6a7c101cc4d008059885', '4a6c404b2726ea68403d998be9c5118a0e91ca72', '3cea6c2878acf2f2996f98424d7f656adfaa2f6a', '7906b560bae5f8b3eb5d7f78ae65dbe94f248f4d', 'de5b7f935683035a6cde7f5886254fd293a73869', '531bbf65b9fd21d4e56d837def9399f304691207', '181d9c254ff957a396b8bbcec10228f84cfa5c2c', 'ad3e5d8acd955dd709794043e7ae02a85df12d65', 'efad1bd178aa3996d6fd40412ca0e5af4794e983', '3a829c9fa2a7b69f4067260200d35cc1af84020d', '5c4632b90bed9b1c69573f1de1c8d6dee1eb8d0c', '9232eeaa942af2ff3f3e2b90f996d3ad003e4b31', '48315fdbceba830680c924d8806cff317c6798c6', '5264bce396b58ba18b13fa8bc692b9e13095b238', '2ef5361054d5f4da80de8d59e767096cfe1d4e0e', 'a57d0e93327e03ba4f39cfdd633dbcb2b4f526f6', 'b3bda43148fb16602e0839344c7e4ae82277b68c', '4efd7650a476a016e4a65b0df7e640f239032b3c', '6a37f8118af2f2ac3a9acf220fc3d5c5bd20b084', '427f79a4116066653aa6959974f8a5986c2a8459', '9fd616a80b94d0b0f4b1dd438eae250e6fab9bfb', '21061b3af26cd9d0ac1c43cc9bc22d7416ff65f4', '358382780371437a861b90ff4f33022b30615b58', 'e4006c24d8a66fe85e825f8d4b0a9078be1b9204', 'fa34b04be0338811ccaae543e0ea5f7f2573f23d', '64db7e5580fb973cbcd9eca0532bd23f746c308a', '4d7b263e00678587c92a381904862c258c995f3a', 'db66a2159e681457517e5e7ddec88e89f8bdf934', '3a472c895a3ee2d99a2bffe10769235131de5bce', '8ff780d7f6c9e406e85603ecd804f8de42f0efc7', '751d4245454f7d7600ddbb355e6e5212af2f1ddd', '7717fe4c7c003887cce5a09d6eb1d8e739ac5d62', '90182c2fff16adc1d0ef229f39ff963cf37a6615', 'dbefed38a75a3f73e79262227c531a07e8c1c75c', '15596405a3b22023bbd3965cc6329cdae8e475b1', '9b8ca75bf3eafca09c69ad0f0c38bfe0cbab387b', '57be59aea99414a297899a04fb469f7b46592fc4', '4a7a2bb6ceca48ada53f859763ea2aba05f49516', '587d72d47d50a6940a78ff3fcd91caf8d4054c6a', '09b99937f1b90425c490321ec3027251eccfac3d', '05f226ee64b3233ce188010025e23464f780d821', 'd2f6e3542854934ecb56c3083f6a74c2b259d367', '0f0182cafb8d8d3c4c384aedb1a0d316c602ed7d', '2f46eb8ef4cfe8ed86c869e393ea5ce0eaaee461', 'd1b75f8014af0ba7e22bc1e95a28d6be19003886', '84c6475a73261c4a1db1d16f3ad80af1a0256f92', 'e8fc7111df017488a7c6630dc0bab52931cab644', '3fbc5e73ac917bf857102bd4e8b26983a7881035', '6cde3794dd8b2862015d850127be9bc60f1b3c31', '33fe674851b6a7a1f03e5bada3c200116ece3943', '12789b3b67efc997897d019fff50e226357ebbfd', 'fccefe057c1fe8571277ce99bc4746cd71eb5147', 'b12e25ca77f4d6d24a3cc43b5d68744c3b4a8e2c', '1d7b9780e492c062c739517c89e794985c7cf4bb', '1039dae804ff0a96f689b2c2961d390aa13914cf', '6cb2acdc7878bb390f470a5affb706fc821829fd', '0ef3fc780b2d3e3d95668a1d7d649b38c7c8e6c4', '286d0e09b1e974dc664d6f701bf3f8eda09a1ad6', '8fe2ebdb95db4564544947cb16d442bea81554ac', '1a8e700876bdab8669019bee20d193103f76ab92', '120b2dc2699659ae3b708a613abc3d7ecb5326e2', '410787892d06c77fe0d5afd8b3b00dc874a11091', '355429a240c40b288d8b9c48e2849c5f67303dab', '6a76f7237d1e4988bf23ed184c10b7a9d2f96974', '1a23569da6434614c5a2aa14ef67fcf4c07d17b7', '8f3bf00c389715e5a350848cab74ea71f3855eb3', 'd9cc3601c05102e33fc41ee319ee7ccf7bbb3fb8', '0125127617030cb2793e6944075d99046123c37e', 'd0e60617ed4a08b97e17bf7204c1ab666551e50e', '13716875b4aa5052b2cf87a3e1275db249bf798a', '1bd140b16562bf0c720fefe784470dd0f72370d3', 'b6c4164b5b7764e86c695dfa5895ee063c236943', '5a5302263531077e0d4c07217ad4741278f13ce3', '148a5727b25b2b1703668e2b03f4df88225f166d', 'af1227fa8640d0155e12ce87de8279050407ee93', 'dea2c7bf2fd8001b6f09f01dff1217ea76a28ac9', '7c81e7e7d4348e03a594734108a2889a825ac704', 'd7e65e4295729ceafe349b056d743038ce2bf7e4', '298c645a8d538157b09dbb3669b50c42ba36075f', '29efb1235caf082c40392fa016e2d94ed834ca26', '686c886260ae27f539ee9c4d38b9d5800afa7ede', '6a1432a23977a6515dcf49092f3424fecce2fd44', '514033d39196cbe7ad55004ac3acc589c604335f', '91cc1993adadcc66d133c1f57e4a4a0131612c8c', 'ac6836ccde6a2cbf6ed80d319a191a0776da235b', 'a84c816dae73862b28b8df29829e1418788fa97c', '8c907427d706aab41a79dd1d8e898fcc2f4c41e9', '983090cc71f8f386c18694d36ad1ff4480aaba20', ... ]"
            ]
          },
          "metadata": {
            "tags": []
          },
          "execution_count": 59
        }
      ]
    },
    {
      "cell_type": "code",
      "metadata": {
        "id": "YnNVhr_JjYf8",
        "colab_type": "code",
        "colab": {
          "base_uri": "https://localhost:8080/",
          "height": 694
        },
        "outputId": "9953fc29-67a7-4881-a278-619486916190"
      },
      "source": [
        "GaGa"
      ],
      "execution_count": 41,
      "outputs": [
        {
          "output_type": "execute_result",
          "data": {
            "text/html": [
              "<div style=\"max-height:1000px;max-width:1500px;overflow:auto;\"><table frame=\"box\" rules=\"cols\">\n",
              "    <tr>\n",
              "        <th style=\"padding-left: 1em; padding-right: 1em; text-align: center\">user_id</th>\n",
              "        <th style=\"padding-left: 1em; padding-right: 1em; text-align: center\">song_id</th>\n",
              "        <th style=\"padding-left: 1em; padding-right: 1em; text-align: center\">listen_count</th>\n",
              "        <th style=\"padding-left: 1em; padding-right: 1em; text-align: center\">title</th>\n",
              "        <th style=\"padding-left: 1em; padding-right: 1em; text-align: center\">artist</th>\n",
              "    </tr>\n",
              "    <tr>\n",
              "        <td style=\"padding-left: 1em; padding-right: 1em; text-align: center; vertical-align: top\">b80344d063b5ccb3212f76538<br>f3d9e43d87dca9e ...</td>\n",
              "        <td style=\"padding-left: 1em; padding-right: 1em; text-align: center; vertical-align: top\">SODXRTY12AB0180F3B</td>\n",
              "        <td style=\"padding-left: 1em; padding-right: 1em; text-align: center; vertical-align: top\">1</td>\n",
              "        <td style=\"padding-left: 1em; padding-right: 1em; text-align: center; vertical-align: top\">Paper Gangsta</td>\n",
              "        <td style=\"padding-left: 1em; padding-right: 1em; text-align: center; vertical-align: top\">Lady GaGa</td>\n",
              "    </tr>\n",
              "    <tr>\n",
              "        <td style=\"padding-left: 1em; padding-right: 1em; text-align: center; vertical-align: top\">4bd88bfb25263a75bbdd467e7<br>4018f4ae570e5df ...</td>\n",
              "        <td style=\"padding-left: 1em; padding-right: 1em; text-align: center; vertical-align: top\">SOXGQEM12AB0181D35</td>\n",
              "        <td style=\"padding-left: 1em; padding-right: 1em; text-align: center; vertical-align: top\">12</td>\n",
              "        <td style=\"padding-left: 1em; padding-right: 1em; text-align: center; vertical-align: top\">Speechless</td>\n",
              "        <td style=\"padding-left: 1em; padding-right: 1em; text-align: center; vertical-align: top\">Lady GaGa</td>\n",
              "    </tr>\n",
              "    <tr>\n",
              "        <td style=\"padding-left: 1em; padding-right: 1em; text-align: center; vertical-align: top\">a5cc4c1c78e830b43bba70a8d<br>439ad865ca8026f ...</td>\n",
              "        <td style=\"padding-left: 1em; padding-right: 1em; text-align: center; vertical-align: top\">SOSCIZP12AB0181D2F</td>\n",
              "        <td style=\"padding-left: 1em; padding-right: 1em; text-align: center; vertical-align: top\">5</td>\n",
              "        <td style=\"padding-left: 1em; padding-right: 1em; text-align: center; vertical-align: top\">Alejandro</td>\n",
              "        <td style=\"padding-left: 1em; padding-right: 1em; text-align: center; vertical-align: top\">Lady GaGa</td>\n",
              "    </tr>\n",
              "    <tr>\n",
              "        <td style=\"padding-left: 1em; padding-right: 1em; text-align: center; vertical-align: top\">8cbb5066924ec788e3fea9a4a<br>ae59586f46f38fa ...</td>\n",
              "        <td style=\"padding-left: 1em; padding-right: 1em; text-align: center; vertical-align: top\">SOASXQD12AB018902F</td>\n",
              "        <td style=\"padding-left: 1em; padding-right: 1em; text-align: center; vertical-align: top\">1</td>\n",
              "        <td style=\"padding-left: 1em; padding-right: 1em; text-align: center; vertical-align: top\">Beautiful_ Dirty_ Rich</td>\n",
              "        <td style=\"padding-left: 1em; padding-right: 1em; text-align: center; vertical-align: top\">Lady GaGa</td>\n",
              "    </tr>\n",
              "    <tr>\n",
              "        <td style=\"padding-left: 1em; padding-right: 1em; text-align: center; vertical-align: top\">8cbb5066924ec788e3fea9a4a<br>ae59586f46f38fa ...</td>\n",
              "        <td style=\"padding-left: 1em; padding-right: 1em; text-align: center; vertical-align: top\">SOCBQKE12AB018548E</td>\n",
              "        <td style=\"padding-left: 1em; padding-right: 1em; text-align: center; vertical-align: top\">1</td>\n",
              "        <td style=\"padding-left: 1em; padding-right: 1em; text-align: center; vertical-align: top\">Teeth</td>\n",
              "        <td style=\"padding-left: 1em; padding-right: 1em; text-align: center; vertical-align: top\">Lady GaGa</td>\n",
              "    </tr>\n",
              "    <tr>\n",
              "        <td style=\"padding-left: 1em; padding-right: 1em; text-align: center; vertical-align: top\">8cbb5066924ec788e3fea9a4a<br>ae59586f46f38fa ...</td>\n",
              "        <td style=\"padding-left: 1em; padding-right: 1em; text-align: center; vertical-align: top\">SODXRTY12AB0180F3B</td>\n",
              "        <td style=\"padding-left: 1em; padding-right: 1em; text-align: center; vertical-align: top\">1</td>\n",
              "        <td style=\"padding-left: 1em; padding-right: 1em; text-align: center; vertical-align: top\">Paper Gangsta</td>\n",
              "        <td style=\"padding-left: 1em; padding-right: 1em; text-align: center; vertical-align: top\">Lady GaGa</td>\n",
              "    </tr>\n",
              "    <tr>\n",
              "        <td style=\"padding-left: 1em; padding-right: 1em; text-align: center; vertical-align: top\">8cbb5066924ec788e3fea9a4a<br>ae59586f46f38fa ...</td>\n",
              "        <td style=\"padding-left: 1em; padding-right: 1em; text-align: center; vertical-align: top\">SOEYVHS12AB0181D31</td>\n",
              "        <td style=\"padding-left: 1em; padding-right: 1em; text-align: center; vertical-align: top\">1</td>\n",
              "        <td style=\"padding-left: 1em; padding-right: 1em; text-align: center; vertical-align: top\">Monster</td>\n",
              "        <td style=\"padding-left: 1em; padding-right: 1em; text-align: center; vertical-align: top\">Lady GaGa</td>\n",
              "    </tr>\n",
              "    <tr>\n",
              "        <td style=\"padding-left: 1em; padding-right: 1em; text-align: center; vertical-align: top\">8cbb5066924ec788e3fea9a4a<br>ae59586f46f38fa ...</td>\n",
              "        <td style=\"padding-left: 1em; padding-right: 1em; text-align: center; vertical-align: top\">SOJVYJH12AB0180F4F</td>\n",
              "        <td style=\"padding-left: 1em; padding-right: 1em; text-align: center; vertical-align: top\">1</td>\n",
              "        <td style=\"padding-left: 1em; padding-right: 1em; text-align: center; vertical-align: top\">Disco Heaven</td>\n",
              "        <td style=\"padding-left: 1em; padding-right: 1em; text-align: center; vertical-align: top\">Lady GaGa</td>\n",
              "    </tr>\n",
              "    <tr>\n",
              "        <td style=\"padding-left: 1em; padding-right: 1em; text-align: center; vertical-align: top\">8cbb5066924ec788e3fea9a4a<br>ae59586f46f38fa ...</td>\n",
              "        <td style=\"padding-left: 1em; padding-right: 1em; text-align: center; vertical-align: top\">SOMONAP12AB0181D21</td>\n",
              "        <td style=\"padding-left: 1em; padding-right: 1em; text-align: center; vertical-align: top\">1</td>\n",
              "        <td style=\"padding-left: 1em; padding-right: 1em; text-align: center; vertical-align: top\">Again Again</td>\n",
              "        <td style=\"padding-left: 1em; padding-right: 1em; text-align: center; vertical-align: top\">Lady GaGa</td>\n",
              "    </tr>\n",
              "    <tr>\n",
              "        <td style=\"padding-left: 1em; padding-right: 1em; text-align: center; vertical-align: top\">8cbb5066924ec788e3fea9a4a<br>ae59586f46f38fa ...</td>\n",
              "        <td style=\"padding-left: 1em; padding-right: 1em; text-align: center; vertical-align: top\">SOSCIZP12AB0181D2F</td>\n",
              "        <td style=\"padding-left: 1em; padding-right: 1em; text-align: center; vertical-align: top\">1</td>\n",
              "        <td style=\"padding-left: 1em; padding-right: 1em; text-align: center; vertical-align: top\">Alejandro</td>\n",
              "        <td style=\"padding-left: 1em; padding-right: 1em; text-align: center; vertical-align: top\">Lady GaGa</td>\n",
              "    </tr>\n",
              "</table>\n",
              "<table frame=\"box\" rules=\"cols\">\n",
              "    <tr>\n",
              "        <th style=\"padding-left: 1em; padding-right: 1em; text-align: center\">song</th>\n",
              "    </tr>\n",
              "    <tr>\n",
              "        <td style=\"padding-left: 1em; padding-right: 1em; text-align: center; vertical-align: top\">Paper Gangsta - Lady GaGa</td>\n",
              "    </tr>\n",
              "    <tr>\n",
              "        <td style=\"padding-left: 1em; padding-right: 1em; text-align: center; vertical-align: top\">Speechless - Lady GaGa</td>\n",
              "    </tr>\n",
              "    <tr>\n",
              "        <td style=\"padding-left: 1em; padding-right: 1em; text-align: center; vertical-align: top\">Alejandro - Lady GaGa</td>\n",
              "    </tr>\n",
              "    <tr>\n",
              "        <td style=\"padding-left: 1em; padding-right: 1em; text-align: center; vertical-align: top\">Beautiful_ Dirty_ Rich -<br>Lady GaGa ...</td>\n",
              "    </tr>\n",
              "    <tr>\n",
              "        <td style=\"padding-left: 1em; padding-right: 1em; text-align: center; vertical-align: top\">Teeth - Lady GaGa</td>\n",
              "    </tr>\n",
              "    <tr>\n",
              "        <td style=\"padding-left: 1em; padding-right: 1em; text-align: center; vertical-align: top\">Paper Gangsta - Lady GaGa</td>\n",
              "    </tr>\n",
              "    <tr>\n",
              "        <td style=\"padding-left: 1em; padding-right: 1em; text-align: center; vertical-align: top\">Monster - Lady GaGa</td>\n",
              "    </tr>\n",
              "    <tr>\n",
              "        <td style=\"padding-left: 1em; padding-right: 1em; text-align: center; vertical-align: top\">Disco Heaven - Lady GaGa</td>\n",
              "    </tr>\n",
              "    <tr>\n",
              "        <td style=\"padding-left: 1em; padding-right: 1em; text-align: center; vertical-align: top\">Again Again - Lady GaGa</td>\n",
              "    </tr>\n",
              "    <tr>\n",
              "        <td style=\"padding-left: 1em; padding-right: 1em; text-align: center; vertical-align: top\">Alejandro - Lady GaGa</td>\n",
              "    </tr>\n",
              "</table>\n",
              "[4129 rows x 6 columns]<br/>Note: Only the head of the SFrame is printed.<br/>You can use print_rows(num_rows=m, num_columns=n) to print more rows and columns.\n",
              "</div>"
            ],
            "text/plain": [
              "Columns:\n",
              "\tuser_id\tstr\n",
              "\tsong_id\tstr\n",
              "\tlisten_count\tint\n",
              "\ttitle\tstr\n",
              "\tartist\tstr\n",
              "\tsong\tstr\n",
              "\n",
              "Rows: 4129\n",
              "\n",
              "Data:\n",
              "+-------------------------------+--------------------+--------------+\n",
              "|            user_id            |      song_id       | listen_count |\n",
              "+-------------------------------+--------------------+--------------+\n",
              "| b80344d063b5ccb3212f76538f... | SODXRTY12AB0180F3B |      1       |\n",
              "| 4bd88bfb25263a75bbdd467e74... | SOXGQEM12AB0181D35 |      12      |\n",
              "| a5cc4c1c78e830b43bba70a8d4... | SOSCIZP12AB0181D2F |      5       |\n",
              "| 8cbb5066924ec788e3fea9a4aa... | SOASXQD12AB018902F |      1       |\n",
              "| 8cbb5066924ec788e3fea9a4aa... | SOCBQKE12AB018548E |      1       |\n",
              "| 8cbb5066924ec788e3fea9a4aa... | SODXRTY12AB0180F3B |      1       |\n",
              "| 8cbb5066924ec788e3fea9a4aa... | SOEYVHS12AB0181D31 |      1       |\n",
              "| 8cbb5066924ec788e3fea9a4aa... | SOJVYJH12AB0180F4F |      1       |\n",
              "| 8cbb5066924ec788e3fea9a4aa... | SOMONAP12AB0181D21 |      1       |\n",
              "| 8cbb5066924ec788e3fea9a4aa... | SOSCIZP12AB0181D2F |      1       |\n",
              "+-------------------------------+--------------------+--------------+\n",
              "+------------------------+-----------+-------------------------------+\n",
              "|         title          |   artist  |              song             |\n",
              "+------------------------+-----------+-------------------------------+\n",
              "|     Paper Gangsta      | Lady GaGa |   Paper Gangsta - Lady GaGa   |\n",
              "|       Speechless       | Lady GaGa |     Speechless - Lady GaGa    |\n",
              "|       Alejandro        | Lady GaGa |     Alejandro - Lady GaGa     |\n",
              "| Beautiful_ Dirty_ Rich | Lady GaGa | Beautiful_ Dirty_ Rich - L... |\n",
              "|         Teeth          | Lady GaGa |       Teeth - Lady GaGa       |\n",
              "|     Paper Gangsta      | Lady GaGa |   Paper Gangsta - Lady GaGa   |\n",
              "|        Monster         | Lady GaGa |      Monster - Lady GaGa      |\n",
              "|      Disco Heaven      | Lady GaGa |    Disco Heaven - Lady GaGa   |\n",
              "|      Again Again       | Lady GaGa |    Again Again - Lady GaGa    |\n",
              "|       Alejandro        | Lady GaGa |     Alejandro - Lady GaGa     |\n",
              "+------------------------+-----------+-------------------------------+\n",
              "[4129 rows x 6 columns]\n",
              "Note: Only the head of the SFrame is printed.\n",
              "You can use print_rows(num_rows=m, num_columns=n) to print more rows and columns."
            ]
          },
          "metadata": {
            "tags": []
          },
          "execution_count": 41
        }
      ]
    },
    {
      "cell_type": "code",
      "metadata": {
        "id": "GDJsT1uiikrq",
        "colab_type": "code",
        "colab": {
          "base_uri": "https://localhost:8080/",
          "height": 34
        },
        "outputId": "3c2ba697-765b-472f-87ef-427ca8d0cfdc"
      },
      "source": [
        "GaGa['listen_count'].sum()"
      ],
      "execution_count": 40,
      "outputs": [
        {
          "output_type": "execute_result",
          "data": {
            "text/plain": [
              "12224"
            ]
          },
          "metadata": {
            "tags": []
          },
          "execution_count": 40
        }
      ]
    },
    {
      "cell_type": "code",
      "metadata": {
        "id": "RkJXaKEJjPVL",
        "colab_type": "code",
        "colab": {}
      },
      "source": [
        "subset_test_users = test_data['user_id'].unique()[0:10000]"
      ],
      "execution_count": 42,
      "outputs": []
    },
    {
      "cell_type": "code",
      "metadata": {
        "id": "hG5U56jIjzFD",
        "colab_type": "code",
        "colab": {
          "base_uri": "https://localhost:8080/",
          "height": 772
        },
        "outputId": "5ba323ae-9490-4900-c880-7fe130df431d"
      },
      "source": [
        "personlized_model.recommend(subset_test_users,k=1)"
      ],
      "execution_count": 44,
      "outputs": [
        {
          "output_type": "display_data",
          "data": {
            "text/html": [
              "<pre>recommendations finished on 1000/10000 queries. users per second: 3297.55</pre>"
            ],
            "text/plain": [
              "recommendations finished on 1000/10000 queries. users per second: 3297.55"
            ]
          },
          "metadata": {
            "tags": []
          }
        },
        {
          "output_type": "display_data",
          "data": {
            "text/html": [
              "<pre>recommendations finished on 2000/10000 queries. users per second: 3329.27</pre>"
            ],
            "text/plain": [
              "recommendations finished on 2000/10000 queries. users per second: 3329.27"
            ]
          },
          "metadata": {
            "tags": []
          }
        },
        {
          "output_type": "display_data",
          "data": {
            "text/html": [
              "<pre>recommendations finished on 3000/10000 queries. users per second: 3325</pre>"
            ],
            "text/plain": [
              "recommendations finished on 3000/10000 queries. users per second: 3325"
            ]
          },
          "metadata": {
            "tags": []
          }
        },
        {
          "output_type": "display_data",
          "data": {
            "text/html": [
              "<pre>recommendations finished on 4000/10000 queries. users per second: 3348.55</pre>"
            ],
            "text/plain": [
              "recommendations finished on 4000/10000 queries. users per second: 3348.55"
            ]
          },
          "metadata": {
            "tags": []
          }
        },
        {
          "output_type": "display_data",
          "data": {
            "text/html": [
              "<pre>recommendations finished on 5000/10000 queries. users per second: 3301.14</pre>"
            ],
            "text/plain": [
              "recommendations finished on 5000/10000 queries. users per second: 3301.14"
            ]
          },
          "metadata": {
            "tags": []
          }
        },
        {
          "output_type": "display_data",
          "data": {
            "text/html": [
              "<pre>recommendations finished on 6000/10000 queries. users per second: 3315.47</pre>"
            ],
            "text/plain": [
              "recommendations finished on 6000/10000 queries. users per second: 3315.47"
            ]
          },
          "metadata": {
            "tags": []
          }
        },
        {
          "output_type": "display_data",
          "data": {
            "text/html": [
              "<pre>recommendations finished on 7000/10000 queries. users per second: 3322.06</pre>"
            ],
            "text/plain": [
              "recommendations finished on 7000/10000 queries. users per second: 3322.06"
            ]
          },
          "metadata": {
            "tags": []
          }
        },
        {
          "output_type": "display_data",
          "data": {
            "text/html": [
              "<pre>recommendations finished on 8000/10000 queries. users per second: 3330.89</pre>"
            ],
            "text/plain": [
              "recommendations finished on 8000/10000 queries. users per second: 3330.89"
            ]
          },
          "metadata": {
            "tags": []
          }
        },
        {
          "output_type": "display_data",
          "data": {
            "text/html": [
              "<pre>recommendations finished on 9000/10000 queries. users per second: 3329.87</pre>"
            ],
            "text/plain": [
              "recommendations finished on 9000/10000 queries. users per second: 3329.87"
            ]
          },
          "metadata": {
            "tags": []
          }
        },
        {
          "output_type": "display_data",
          "data": {
            "text/html": [
              "<pre>recommendations finished on 10000/10000 queries. users per second: 3314.25</pre>"
            ],
            "text/plain": [
              "recommendations finished on 10000/10000 queries. users per second: 3314.25"
            ]
          },
          "metadata": {
            "tags": []
          }
        },
        {
          "output_type": "execute_result",
          "data": {
            "text/html": [
              "<div style=\"max-height:1000px;max-width:1500px;overflow:auto;\"><table frame=\"box\" rules=\"cols\">\n",
              "    <tr>\n",
              "        <th style=\"padding-left: 1em; padding-right: 1em; text-align: center\">user_id</th>\n",
              "        <th style=\"padding-left: 1em; padding-right: 1em; text-align: center\">song</th>\n",
              "        <th style=\"padding-left: 1em; padding-right: 1em; text-align: center\">score</th>\n",
              "        <th style=\"padding-left: 1em; padding-right: 1em; text-align: center\">rank</th>\n",
              "    </tr>\n",
              "    <tr>\n",
              "        <td style=\"padding-left: 1em; padding-right: 1em; text-align: center; vertical-align: top\">c66c10a9567f0d82ff31441a9<br>fd5063e5cd9dfe8 ...</td>\n",
              "        <td style=\"padding-left: 1em; padding-right: 1em; text-align: center; vertical-align: top\">Cuando Pase El Temblor -<br>Soda Stereo ...</td>\n",
              "        <td style=\"padding-left: 1em; padding-right: 1em; text-align: center; vertical-align: top\">0.019450453611520622</td>\n",
              "        <td style=\"padding-left: 1em; padding-right: 1em; text-align: center; vertical-align: top\">1</td>\n",
              "    </tr>\n",
              "    <tr>\n",
              "        <td style=\"padding-left: 1em; padding-right: 1em; text-align: center; vertical-align: top\">02f015d32ac2cd1e52d26e3ec<br>36048711dd5711b ...</td>\n",
              "        <td style=\"padding-left: 1em; padding-right: 1em; text-align: center; vertical-align: top\">Where The Boat Leaves<br>From (Album) - Zac Brown ...</td>\n",
              "        <td style=\"padding-left: 1em; padding-right: 1em; text-align: center; vertical-align: top\">0.06153608858585358</td>\n",
              "        <td style=\"padding-left: 1em; padding-right: 1em; text-align: center; vertical-align: top\">1</td>\n",
              "    </tr>\n",
              "    <tr>\n",
              "        <td style=\"padding-left: 1em; padding-right: 1em; text-align: center; vertical-align: top\">f933855d675606737fdc191e9<br>edff7625d08aae8 ...</td>\n",
              "        <td style=\"padding-left: 1em; padding-right: 1em; text-align: center; vertical-align: top\">Schießt die Deutschen<br>raus - Mario Lang ...</td>\n",
              "        <td style=\"padding-left: 1em; padding-right: 1em; text-align: center; vertical-align: top\">0.03494257786694695</td>\n",
              "        <td style=\"padding-left: 1em; padding-right: 1em; text-align: center; vertical-align: top\">1</td>\n",
              "    </tr>\n",
              "    <tr>\n",
              "        <td style=\"padding-left: 1em; padding-right: 1em; text-align: center; vertical-align: top\">4867d5516a280db13695b9b9c<br>7ce6b574f34c6b4 ...</td>\n",
              "        <td style=\"padding-left: 1em; padding-right: 1em; text-align: center; vertical-align: top\">Two Steps_ Twice - Foals</td>\n",
              "        <td style=\"padding-left: 1em; padding-right: 1em; text-align: center; vertical-align: top\">0.010465491385686965</td>\n",
              "        <td style=\"padding-left: 1em; padding-right: 1em; text-align: center; vertical-align: top\">1</td>\n",
              "    </tr>\n",
              "    <tr>\n",
              "        <td style=\"padding-left: 1em; padding-right: 1em; text-align: center; vertical-align: top\">968f1baebc490d3c6999ee6c8<br>5c5cab8b726b347 ...</td>\n",
              "        <td style=\"padding-left: 1em; padding-right: 1em; text-align: center; vertical-align: top\">Me_ Myself And I -<br>Beyoncé ...</td>\n",
              "        <td style=\"padding-left: 1em; padding-right: 1em; text-align: center; vertical-align: top\">0.01667001030661843</td>\n",
              "        <td style=\"padding-left: 1em; padding-right: 1em; text-align: center; vertical-align: top\">1</td>\n",
              "    </tr>\n",
              "    <tr>\n",
              "        <td style=\"padding-left: 1em; padding-right: 1em; text-align: center; vertical-align: top\">c067c22072a17d33310d7223d<br>7b79f819e48cf42 ...</td>\n",
              "        <td style=\"padding-left: 1em; padding-right: 1em; text-align: center; vertical-align: top\">Grind With Me (Explicit<br>Version) - Pretty Ricky ...</td>\n",
              "        <td style=\"padding-left: 1em; padding-right: 1em; text-align: center; vertical-align: top\">0.04594243764877319</td>\n",
              "        <td style=\"padding-left: 1em; padding-right: 1em; text-align: center; vertical-align: top\">1</td>\n",
              "    </tr>\n",
              "    <tr>\n",
              "        <td style=\"padding-left: 1em; padding-right: 1em; text-align: center; vertical-align: top\">4454c4a192a467664286c8b58<br>447709131ebdcf6 ...</td>\n",
              "        <td style=\"padding-left: 1em; padding-right: 1em; text-align: center; vertical-align: top\">Someday - Celtic Woman</td>\n",
              "        <td style=\"padding-left: 1em; padding-right: 1em; text-align: center; vertical-align: top\">0.032641044684818814</td>\n",
              "        <td style=\"padding-left: 1em; padding-right: 1em; text-align: center; vertical-align: top\">1</td>\n",
              "    </tr>\n",
              "    <tr>\n",
              "        <td style=\"padding-left: 1em; padding-right: 1em; text-align: center; vertical-align: top\">2c494678b5582807c16390f13<br>d076f785e20934e ...</td>\n",
              "        <td style=\"padding-left: 1em; padding-right: 1em; text-align: center; vertical-align: top\">What Country Is - Luke<br>Bryan ...</td>\n",
              "        <td style=\"padding-left: 1em; padding-right: 1em; text-align: center; vertical-align: top\">0.024852409958839417</td>\n",
              "        <td style=\"padding-left: 1em; padding-right: 1em; text-align: center; vertical-align: top\">1</td>\n",
              "    </tr>\n",
              "    <tr>\n",
              "        <td style=\"padding-left: 1em; padding-right: 1em; text-align: center; vertical-align: top\">900ed526660df9c3442ebe736<br>db94eb0bc251b73 ...</td>\n",
              "        <td style=\"padding-left: 1em; padding-right: 1em; text-align: center; vertical-align: top\">El Chupe Nibre (Album<br>Version) - Danger Doom ...</td>\n",
              "        <td style=\"padding-left: 1em; padding-right: 1em; text-align: center; vertical-align: top\">0.01008515391084883</td>\n",
              "        <td style=\"padding-left: 1em; padding-right: 1em; text-align: center; vertical-align: top\">1</td>\n",
              "    </tr>\n",
              "    <tr>\n",
              "        <td style=\"padding-left: 1em; padding-right: 1em; text-align: center; vertical-align: top\">799816a69ec82a23a3a344971<br>b485bc5417ec078 ...</td>\n",
              "        <td style=\"padding-left: 1em; padding-right: 1em; text-align: center; vertical-align: top\">Armour Love - La Roux</td>\n",
              "        <td style=\"padding-left: 1em; padding-right: 1em; text-align: center; vertical-align: top\">0.05936388032776969</td>\n",
              "        <td style=\"padding-left: 1em; padding-right: 1em; text-align: center; vertical-align: top\">1</td>\n",
              "    </tr>\n",
              "</table>\n",
              "[10000 rows x 4 columns]<br/>Note: Only the head of the SFrame is printed.<br/>You can use print_rows(num_rows=m, num_columns=n) to print more rows and columns.\n",
              "</div>"
            ],
            "text/plain": [
              "Columns:\n",
              "\tuser_id\tstr\n",
              "\tsong\tstr\n",
              "\tscore\tfloat\n",
              "\trank\tint\n",
              "\n",
              "Rows: 10000\n",
              "\n",
              "Data:\n",
              "+-------------------------------+-------------------------------+\n",
              "|            user_id            |              song             |\n",
              "+-------------------------------+-------------------------------+\n",
              "| c66c10a9567f0d82ff31441a9f... | Cuando Pase El Temblor - S... |\n",
              "| 02f015d32ac2cd1e52d26e3ec3... | Where The Boat Leaves From... |\n",
              "| f933855d675606737fdc191e9e... | Schießt die Deutschen raus... |\n",
              "| 4867d5516a280db13695b9b9c7... |    Two Steps_ Twice - Foals   |\n",
              "| 968f1baebc490d3c6999ee6c85... |   Me_ Myself And I - Beyoncé  |\n",
              "| c067c22072a17d33310d7223d7... | Grind With Me (Explicit Ve... |\n",
              "| 4454c4a192a467664286c8b584... |     Someday - Celtic Woman    |\n",
              "| 2c494678b5582807c16390f13d... |  What Country Is - Luke Bryan |\n",
              "| 900ed526660df9c3442ebe736d... | El Chupe Nibre (Album Vers... |\n",
              "| 799816a69ec82a23a3a344971b... |     Armour Love - La Roux     |\n",
              "+-------------------------------+-------------------------------+\n",
              "+----------------------+------+\n",
              "|        score         | rank |\n",
              "+----------------------+------+\n",
              "| 0.019450453611520622 |  1   |\n",
              "| 0.06153608858585358  |  1   |\n",
              "| 0.03494257786694695  |  1   |\n",
              "| 0.010465491385686965 |  1   |\n",
              "| 0.01667001030661843  |  1   |\n",
              "| 0.04594243764877319  |  1   |\n",
              "| 0.032641044684818814 |  1   |\n",
              "| 0.024852409958839417 |  1   |\n",
              "| 0.01008515391084883  |  1   |\n",
              "| 0.05936388032776969  |  1   |\n",
              "+----------------------+------+\n",
              "[10000 rows x 4 columns]\n",
              "Note: Only the head of the SFrame is printed.\n",
              "You can use print_rows(num_rows=m, num_columns=n) to print more rows and columns."
            ]
          },
          "metadata": {
            "tags": []
          },
          "execution_count": 44
        }
      ]
    },
    {
      "cell_type": "code",
      "metadata": {
        "id": "rqRSmrn9lRbw",
        "colab_type": "code",
        "colab": {}
      },
      "source": [
        "artist_listen_count = song.groupby('artist', operations={'total_count': tc.aggregate.SUM('listen_count')})"
      ],
      "execution_count": 51,
      "outputs": []
    },
    {
      "cell_type": "code",
      "metadata": {
        "id": "Ycm2blHdnZwJ",
        "colab_type": "code",
        "colab": {}
      },
      "source": [
        "artist_listen_count_sorted =artist_listen_count.sort('total_count',ascending=False)"
      ],
      "execution_count": 62,
      "outputs": []
    },
    {
      "cell_type": "code",
      "metadata": {
        "id": "TYLBAJ6inoI4",
        "colab_type": "code",
        "colab": {
          "base_uri": "https://localhost:8080/",
          "height": 34
        },
        "outputId": "2eea81d1-d672-41df-ff53-6c9463ad3526"
      },
      "source": [
        "artist_listen_count_sorted[-1]"
      ],
      "execution_count": 63,
      "outputs": [
        {
          "output_type": "execute_result",
          "data": {
            "text/plain": [
              "{'artist': 'William Tabbert', 'total_count': 14}"
            ]
          },
          "metadata": {
            "tags": []
          },
          "execution_count": 63
        }
      ]
    },
    {
      "cell_type": "code",
      "metadata": {
        "id": "j1o5YL0elo1R",
        "colab_type": "code",
        "colab": {}
      },
      "source": [
        "Kanye = artist_listen_count[artist_listen_count['artist'] == 'Kanye West']"
      ],
      "execution_count": 52,
      "outputs": []
    },
    {
      "cell_type": "code",
      "metadata": {
        "id": "NQCqNCqsl_j8",
        "colab_type": "code",
        "colab": {
          "base_uri": "https://localhost:8080/",
          "height": 108
        },
        "outputId": "2b626d2d-fff6-44a5-9999-f8014e949631"
      },
      "source": [
        "Kanye"
      ],
      "execution_count": 53,
      "outputs": [
        {
          "output_type": "execute_result",
          "data": {
            "text/html": [
              "<div style=\"max-height:1000px;max-width:1500px;overflow:auto;\"><table frame=\"box\" rules=\"cols\">\n",
              "    <tr>\n",
              "        <th style=\"padding-left: 1em; padding-right: 1em; text-align: center\">artist</th>\n",
              "        <th style=\"padding-left: 1em; padding-right: 1em; text-align: center\">total_count</th>\n",
              "    </tr>\n",
              "    <tr>\n",
              "        <td style=\"padding-left: 1em; padding-right: 1em; text-align: center; vertical-align: top\">Kanye West</td>\n",
              "        <td style=\"padding-left: 1em; padding-right: 1em; text-align: center; vertical-align: top\">9992</td>\n",
              "    </tr>\n",
              "</table>\n",
              "[? rows x 2 columns]<br/>Note: Only the head of the SFrame is printed. This SFrame is lazily evaluated.<br/>You can use sf.materialize() to force materialization.\n",
              "</div>"
            ],
            "text/plain": [
              "Columns:\n",
              "\tartist\tstr\n",
              "\ttotal_count\tint\n",
              "\n",
              "Rows: Unknown\n",
              "\n",
              "Data:\n",
              "+------------+-------------+\n",
              "|   artist   | total_count |\n",
              "+------------+-------------+\n",
              "| Kanye West |     9992    |\n",
              "+------------+-------------+\n",
              "[? rows x 2 columns]\n",
              "Note: Only the head of the SFrame is printed. This SFrame is lazily evaluated.\n",
              "You can use sf.materialize() to force materialization."
            ]
          },
          "metadata": {
            "tags": []
          },
          "execution_count": 53
        }
      ]
    },
    {
      "cell_type": "code",
      "metadata": {
        "id": "YSqHwKsSj8yb",
        "colab_type": "code",
        "colab": {
          "base_uri": "https://localhost:8080/",
          "height": 347
        },
        "outputId": "31968fd6-cada-4479-97c1-039746b2d417"
      },
      "source": [
        "song.groupby('song',{'count':tc.aggregate.COUNT()}).sort('count',ascending=False)"
      ],
      "execution_count": 55,
      "outputs": [
        {
          "output_type": "execute_result",
          "data": {
            "text/html": [
              "<div style=\"max-height:1000px;max-width:1500px;overflow:auto;\"><table frame=\"box\" rules=\"cols\">\n",
              "    <tr>\n",
              "        <th style=\"padding-left: 1em; padding-right: 1em; text-align: center\">song</th>\n",
              "        <th style=\"padding-left: 1em; padding-right: 1em; text-align: center\">count</th>\n",
              "    </tr>\n",
              "    <tr>\n",
              "        <td style=\"padding-left: 1em; padding-right: 1em; text-align: center; vertical-align: top\">Sehr kosmisch - Harmonia</td>\n",
              "        <td style=\"padding-left: 1em; padding-right: 1em; text-align: center; vertical-align: top\">5970</td>\n",
              "    </tr>\n",
              "    <tr>\n",
              "        <td style=\"padding-left: 1em; padding-right: 1em; text-align: center; vertical-align: top\">Undo - Björk</td>\n",
              "        <td style=\"padding-left: 1em; padding-right: 1em; text-align: center; vertical-align: top\">5281</td>\n",
              "    </tr>\n",
              "    <tr>\n",
              "        <td style=\"padding-left: 1em; padding-right: 1em; text-align: center; vertical-align: top\">You&#x27;re The One - Dwight<br>Yoakam ...</td>\n",
              "        <td style=\"padding-left: 1em; padding-right: 1em; text-align: center; vertical-align: top\">4806</td>\n",
              "    </tr>\n",
              "    <tr>\n",
              "        <td style=\"padding-left: 1em; padding-right: 1em; text-align: center; vertical-align: top\">Dog Days Are Over (Radio<br>Edit) - Florence + The ...</td>\n",
              "        <td style=\"padding-left: 1em; padding-right: 1em; text-align: center; vertical-align: top\">4536</td>\n",
              "    </tr>\n",
              "    <tr>\n",
              "        <td style=\"padding-left: 1em; padding-right: 1em; text-align: center; vertical-align: top\">Revelry - Kings Of Leon</td>\n",
              "        <td style=\"padding-left: 1em; padding-right: 1em; text-align: center; vertical-align: top\">4339</td>\n",
              "    </tr>\n",
              "    <tr>\n",
              "        <td style=\"padding-left: 1em; padding-right: 1em; text-align: center; vertical-align: top\">Horn Concerto No. 4 in E<br>flat K495: II. Romance ...</td>\n",
              "        <td style=\"padding-left: 1em; padding-right: 1em; text-align: center; vertical-align: top\">3949</td>\n",
              "    </tr>\n",
              "    <tr>\n",
              "        <td style=\"padding-left: 1em; padding-right: 1em; text-align: center; vertical-align: top\">Secrets - OneRepublic</td>\n",
              "        <td style=\"padding-left: 1em; padding-right: 1em; text-align: center; vertical-align: top\">3916</td>\n",
              "    </tr>\n",
              "    <tr>\n",
              "        <td style=\"padding-left: 1em; padding-right: 1em; text-align: center; vertical-align: top\">Tive Sim - Cartola</td>\n",
              "        <td style=\"padding-left: 1em; padding-right: 1em; text-align: center; vertical-align: top\">3185</td>\n",
              "    </tr>\n",
              "    <tr>\n",
              "        <td style=\"padding-left: 1em; padding-right: 1em; text-align: center; vertical-align: top\">Fireflies - Charttraxx<br>Karaoke ...</td>\n",
              "        <td style=\"padding-left: 1em; padding-right: 1em; text-align: center; vertical-align: top\">3171</td>\n",
              "    </tr>\n",
              "    <tr>\n",
              "        <td style=\"padding-left: 1em; padding-right: 1em; text-align: center; vertical-align: top\">Hey_ Soul Sister - Train</td>\n",
              "        <td style=\"padding-left: 1em; padding-right: 1em; text-align: center; vertical-align: top\">3132</td>\n",
              "    </tr>\n",
              "</table>\n",
              "[9952 rows x 2 columns]<br/>Note: Only the head of the SFrame is printed.<br/>You can use print_rows(num_rows=m, num_columns=n) to print more rows and columns.\n",
              "</div>"
            ],
            "text/plain": [
              "Columns:\n",
              "\tsong\tstr\n",
              "\tcount\tint\n",
              "\n",
              "Rows: 9952\n",
              "\n",
              "Data:\n",
              "+--------------------------------+-------+\n",
              "|              song              | count |\n",
              "+--------------------------------+-------+\n",
              "|    Sehr kosmisch - Harmonia    |  5970 |\n",
              "|          Undo - Björk          |  5281 |\n",
              "| You're The One - Dwight Yoakam |  4806 |\n",
              "| Dog Days Are Over (Radio E...  |  4536 |\n",
              "|    Revelry - Kings Of Leon     |  4339 |\n",
              "| Horn Concerto No. 4 in E f...  |  3949 |\n",
              "|     Secrets - OneRepublic      |  3916 |\n",
              "|       Tive Sim - Cartola       |  3185 |\n",
              "| Fireflies - Charttraxx Karaoke |  3171 |\n",
              "|    Hey_ Soul Sister - Train    |  3132 |\n",
              "+--------------------------------+-------+\n",
              "[9952 rows x 2 columns]\n",
              "Note: Only the head of the SFrame is printed.\n",
              "You can use print_rows(num_rows=m, num_columns=n) to print more rows and columns."
            ]
          },
          "metadata": {
            "tags": []
          },
          "execution_count": 55
        }
      ]
    },
    {
      "cell_type": "code",
      "metadata": {
        "id": "pq5z_VDHk3HJ",
        "colab_type": "code",
        "colab": {}
      },
      "source": [
        ""
      ],
      "execution_count": null,
      "outputs": []
    }
  ]
}